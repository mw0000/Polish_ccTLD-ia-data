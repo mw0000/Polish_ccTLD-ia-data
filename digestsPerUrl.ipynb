{
 "cells": [
  {
   "cell_type": "code",
   "execution_count": 1,
   "metadata": {},
   "outputs": [],
   "source": [
    "// 1. Installation\n",
    "\n",
    "//install libraries\n",
    "import org.archive.archivespark._\n",
    "import org.archive.archivespark.functions._\n",
    "import org.archive.archivespark.specific.warc._\n",
    "\n",
    "// data files - generic path from docker run -v\n",
    "val cdxPath = \"/data/arc_cdx/*.cdx\"\n",
    "val warcPath = \"/data/warc\"\n",
    "\n",
    "import org.apache.spark.sql.{Row, SparkSession}\n",
    "\n",
    "val session = spark.newSession\n",
    "\n",
    "// collect all records\n",
    "\n",
    "val r = ArchiveSpark.load(WarcSpec.fromFiles(cdxPath, warcPath))"
   ]
  },
  {
   "cell_type": "code",
   "execution_count": 2,
   "metadata": {},
   "outputs": [
    {
     "data": {
      "text/plain": [
       "72235608"
      ]
     },
     "execution_count": 2,
     "metadata": {},
     "output_type": "execute_result"
    }
   ],
   "source": [
    "// 2.2 count all captures\n",
    "// need r.mimetype not started by 1995\n",
    "r.count()"
   ]
  },
  {
   "cell_type": "code",
   "execution_count": 6,
   "metadata": {},
   "outputs": [],
   "source": [
    "val r1995 = r.filter(r => r.timestamp.startsWith(\"1995\"))"
   ]
  },
  {
   "cell_type": "code",
   "execution_count": 7,
   "metadata": {},
   "outputs": [
    {
     "data": {
      "text/plain": [
       "284"
      ]
     },
     "execution_count": 7,
     "metadata": {},
     "output_type": "execute_result"
    }
   ],
   "source": [
    "r1995.count()"
   ]
  },
  {
   "cell_type": "code",
   "execution_count": 4,
   "metadata": {},
   "outputs": [],
   "source": [
    "// 3. generate basic data frame\n",
    "\n",
    "val m = r.map(f=> (f.originalUrl,f.digest,f.status,f.mime))\n",
    "val df = session.createDataFrame(m).toDF(\"originalUrl\",\"digest\",\"status\",\"mime\").cache()"
   ]
  },
  {
   "cell_type": "code",
   "execution_count": null,
   "metadata": {},
   "outputs": [],
   "source": []
  },
  {
   "cell_type": "code",
   "execution_count": 5,
   "metadata": {},
   "outputs": [
    {
     "name": "stdout",
     "output_type": "stream",
     "text": [
      "+--------------------+--------------------+------+----+\n",
      "|         originalUrl|              digest|status|mime|\n",
      "+--------------------+--------------------+------+----+\n",
      "|http://www.stopkl...|PMUYSQN6O7BISA2A4...|   200|  im|\n",
      "|http://www.stopkl...|A7INTAJ2IYZI2YCV7...|   200|  im|\n",
      "|http://www.stopkl...|A7INTAJ2IYZI2YCV7...|   200|  im|\n",
      "|http://www.stopkl...|A7INTAJ2IYZI2YCV7...|   200|  im|\n",
      "|http://www.stopkl...|A7INTAJ2IYZI2YCV7...|   200|  im|\n",
      "|http://www.stopkl...|7H3SNEXZ5GTSJXCBL...|   200|  im|\n",
      "|http://www.stopkl...|VHX3XTMT47JUSZA3I...|   200|  im|\n",
      "|http://www.stopkl...|VHX3XTMT47JUSZA3I...|   200|  im|\n",
      "|http://www.stopkl...|73XLK7LCKIRK24HK7...|   200|  im|\n",
      "|http://www.stopkl...|73XLK7LCKIRK24HK7...|   200|  im|\n",
      "|http://www.stopkl...|3R63VZAJO22ILAFRV...|   200|  im|\n",
      "|http://www.stopkl...|W2X7RI5SYM7MFKUO7...|   200|  im|\n",
      "|http://www.stopkl...|EICU253YO7TPFAGTQ...|   200|  im|\n",
      "|http://www.stopkl...|INNKIN2JHJ3YYQPJP...|   200|  im|\n",
      "|http://www.stopkl...|INNKIN2JHJ3YYQPJP...|   200|  im|\n",
      "|http://www.stopkl...|INNKIN2JHJ3YYQPJP...|   200|  im|\n",
      "|http://www.stopkl...|HYB3QW4IX2T7IHVMI...|   200|  im|\n",
      "|http://www.stopkl...|HYB3QW4IX2T7IHVMI...|   200|  im|\n",
      "|http://www.stopkl...|HYB3QW4IX2T7IHVMI...|   200|  im|\n",
      "|http://www.stopkl...|HYB3QW4IX2T7IHVMI...|   200|  im|\n",
      "+--------------------+--------------------+------+----+\n",
      "only showing top 20 rows\n",
      "\n"
     ]
    }
   ],
   "source": [
    "df.show()"
   ]
  },
  {
   "cell_type": "code",
   "execution_count": 8,
   "metadata": {},
   "outputs": [],
   "source": [
    "// 5. srednia i mediana liczby wersji na pojedynczy URL\n",
    "import org.apache.spark.sql.functions.count\n",
    "import org.apache.spark.sql.functions._\n",
    "\n",
    "val mDu = df.groupBy(\"originalUrl\").agg(count(\"digest\") as \"digests\").orderBy(desc(\"digests\")).cache()"
   ]
  },
  {
   "cell_type": "code",
   "execution_count": 9,
   "metadata": {},
   "outputs": [
    {
     "name": "stdout",
     "output_type": "stream",
     "text": [
      "\r",
      "                                                                                \r",
      "+-------------------------------------------------------------------+-------+\n",
      "|originalUrl                                                        |digests|\n",
      "+-------------------------------------------------------------------+-------+\n",
      "|http://www.rzeczpospolita.pl:80/gifs/rek1.gif                      |164076 |\n",
      "|http://www.rzeczpospolita.pl:80/gifs/subheadm.gif                  |109050 |\n",
      "|http://www.rzeczpospolita.pl:80/gifs/tlo.gif                       |69606  |\n",
      "|http://www.rzeczpospolita.pl:80/gifs/tlopastyll.gif                |63126  |\n",
      "|http://www.rzeczpospolita.pl:80/gifs/head.gif                      |61952  |\n",
      "|http://img.wp.pl:80/pixel.gif                                      |49326  |\n",
      "|http://www.wp.pl:80/robots.txt                                     |35122  |\n",
      "|http://www.rzeczpospolita.pl:80/gifs/rek2.gif                      |30536  |\n",
      "|http://of.pl:80/robots.txt                                         |27586  |\n",
      "|http://www.hg.pl:80/robots.txt                                     |25698  |\n",
      "|http://www.rzeczpospolita.pl:80/gifs/bdart.gif                     |22882  |\n",
      "|http://www.rzeczpospolita.pl:80/szablony/1.0/gifs/dodatek-stary.gif|18124  |\n",
      "|http://tools.ptc.pl:80/robots.txt                                  |15436  |\n",
      "|http://www.hg.pl:80/404.html                                       |15158  |\n",
      "|http://www.rzeczpospolita.pl:80/gifs/trojkatdodatki.gif            |14980  |\n",
      "|http://www.multinet.pl:80/robots.txt                               |13486  |\n",
      "|http://www.task.gda.pl:80/icons/compressed.gif                     |12834  |\n",
      "|http://www.alpha.pl:80/robots.txt                                  |12772  |\n",
      "|http://www.net-line.pl:80/robots.txt                               |12134  |\n",
      "|http://encyklopedia.fogra.com.pl:80/img/emptydot.GIF               |11578  |\n",
      "+-------------------------------------------------------------------+-------+\n",
      "only showing top 20 rows\n",
      "\n"
     ]
    }
   ],
   "source": [
    "mDu.show(false)"
   ]
  },
  {
   "cell_type": "code",
   "execution_count": 10,
   "metadata": {},
   "outputs": [
    {
     "name": "stdout",
     "output_type": "stream",
     "text": [
      "+-----------------+\n",
      "|     avg(digests)|\n",
      "+-----------------+\n",
      "|3.787504512485132|\n",
      "+-----------------+\n",
      "\n"
     ]
    }
   ],
   "source": [
    "// 5.1 mean\n",
    "mDu.agg(avg(\"digests\")).show()"
   ]
  },
  {
   "cell_type": "code",
   "execution_count": 11,
   "metadata": {},
   "outputs": [
    {
     "name": "stdout",
     "output_type": "stream",
     "text": [
      "\r",
      "                                                                                \r",
      "+------+\n",
      "|median|\n",
      "+------+\n",
      "|   2.0|\n",
      "+------+\n",
      "\n"
     ]
    }
   ],
   "source": [
    "// 5.2 median\n",
    "mDu.agg(expr(\"percentile(digests, 0.5)\").as(\"median\")).cache().show()"
   ]
  },
  {
   "cell_type": "code",
   "execution_count": 12,
   "metadata": {},
   "outputs": [],
   "source": [
    "\n",
    "val vBu = df.groupBy(\"originalUrl\").agg(countDistinct(\"digest\") as \"distDigests\").cache()\n"
   ]
  },
  {
   "cell_type": "code",
   "execution_count": 14,
   "metadata": {},
   "outputs": [
    {
     "name": "stdout",
     "output_type": "stream",
     "text": [
      "+------------------+\n",
      "|        avgDigests|\n",
      "+------------------+\n",
      "|1.2547012033555849|\n",
      "+------------------+\n",
      "\n"
     ]
    }
   ],
   "source": [
    "// avg\n",
    "vBu.agg(avg(\"distDigests\") as \"avgDigests\").show()\n"
   ]
  },
  {
   "cell_type": "code",
   "execution_count": 15,
   "metadata": {},
   "outputs": [
    {
     "name": "stdout",
     "output_type": "stream",
     "text": [
      "+----------+\n",
      "|medDigests|\n",
      "+----------+\n",
      "|       1.0|\n",
      "+----------+\n",
      "\n"
     ]
    }
   ],
   "source": [
    "vBu.agg(expr(\"percentile(distDigests, 0.5)\").as(\"medDigests\")).cache().show()"
   ]
  },
  {
   "cell_type": "code",
   "execution_count": null,
   "metadata": {},
   "outputs": [],
   "source": []
  }
 ],
 "metadata": {
  "kernelspec": {
   "display_name": "ArchiveSpark",
   "language": "",
   "name": "archivespark"
  },
  "language_info": {
   "name": "scala",
   "version": "2.11.8"
  }
 },
 "nbformat": 4,
 "nbformat_minor": 2
}
