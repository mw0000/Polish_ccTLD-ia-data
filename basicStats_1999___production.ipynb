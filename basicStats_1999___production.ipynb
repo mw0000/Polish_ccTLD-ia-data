{
 "cells": [
  {
   "cell_type": "code",
   "execution_count": 1,
   "metadata": {},
   "outputs": [],
   "source": [
    "// 1. Installation\n",
    "\n",
    "//install libraries\n",
    "import org.archive.archivespark._\n",
    "import org.archive.archivespark.functions._\n",
    "import org.archive.archivespark.specific.warc._\n",
    "\n",
    "// data files - generic path from docker run -v\n",
    "val cdxPath = \"/data/arc_cdx/*.cdx\"\n",
    "val warcPath = \"/data/warc\"\n",
    "\n",
    "import org.apache.spark.sql.{Row, SparkSession}\n",
    "\n",
    "val session = spark.newSession\n",
    "\n",
    "// collect all records\n",
    "\n",
    "val r = ArchiveSpark.load(WarcSpec.fromFiles(cdxPath, warcPath))"
   ]
  },
  {
   "cell_type": "code",
   "execution_count": 2,
   "metadata": {},
   "outputs": [],
   "source": [
    "val researchYear = \"1999\""
   ]
  },
  {
   "cell_type": "code",
   "execution_count": 3,
   "metadata": {},
   "outputs": [],
   "source": [
    "// 2. Count ALL objects from research Year\n",
    "// 2.1 get data for text/html & HTTP 200 for each Year\n",
    "val t1 = r.filter(r => r.timestamp.startsWith(researchYear))\n"
   ]
  },
  {
   "cell_type": "code",
   "execution_count": 4,
   "metadata": {},
   "outputs": [
    {
     "data": {
      "text/plain": [
       "4578548"
      ]
     },
     "execution_count": 4,
     "metadata": {},
     "output_type": "execute_result"
    }
   ],
   "source": [
    "// 2.2 count all captures\n",
    "t1.count()"
   ]
  },
  {
   "cell_type": "code",
   "execution_count": 4,
   "metadata": {},
   "outputs": [],
   "source": [
    "// 3. generate basic data frame\n",
    "\n",
    "val m = t1.map(f=> (f.originalUrl,f.digest,f.status,f.mime))\n",
    "val df = session.createDataFrame(m).toDF(\"originalUrl\",\"digest\",\"status\",\"mime\").cache()"
   ]
  },
  {
   "cell_type": "code",
   "execution_count": 6,
   "metadata": {},
   "outputs": [
    {
     "name": "stdout",
     "output_type": "stream",
     "text": [
      "+--------------------+--------------------+------+----+\n",
      "|         originalUrl|              digest|status|mime|\n",
      "+--------------------+--------------------+------+----+\n",
      "|http://www.stopkl...|PMUYSQN6O7BISA2A4...|   200|  im|\n",
      "|http://www.stopkl...|A7INTAJ2IYZI2YCV7...|   200|  im|\n",
      "|http://www.stopkl...|A7INTAJ2IYZI2YCV7...|   200|  im|\n",
      "|http://www.stopkl...|7H3SNEXZ5GTSJXCBL...|   200|  im|\n",
      "|http://www.stopkl...|VHX3XTMT47JUSZA3I...|   200|  im|\n",
      "|http://www.stopkl...|VHX3XTMT47JUSZA3I...|   200|  im|\n",
      "|http://www.stopkl...|73XLK7LCKIRK24HK7...|   200|  im|\n",
      "|http://www.stopkl...|73XLK7LCKIRK24HK7...|   200|  im|\n",
      "|http://www.stopkl...|3R63VZAJO22ILAFRV...|   200|  im|\n",
      "|http://www.stopkl...|W2X7RI5SYM7MFKUO7...|   200|  im|\n",
      "|http://www.stopkl...|EICU253YO7TPFAGTQ...|   200|  im|\n",
      "|http://www.stopkl...|INNKIN2JHJ3YYQPJP...|   200|  im|\n",
      "|http://www.stopkl...|INNKIN2JHJ3YYQPJP...|   200|  im|\n",
      "|http://www.stopkl...|HYB3QW4IX2T7IHVMI...|   200|  im|\n",
      "|http://www.stopkl...|HYB3QW4IX2T7IHVMI...|   200|  im|\n",
      "|http://www.stopkl...|HQOFHLUGKK5EQNGTV...|   200|  im|\n",
      "|http://www.stopkl...|HQOFHLUGKK5EQNGTV...|   200|  im|\n",
      "|http://www.stopkl...|Q7QEUAUIS4OU3TKLF...|   200|  im|\n",
      "|http://www.stopkl...|Q7QEUAUIS4OU3TKLF...|   200|  im|\n",
      "|http://www.stopkl...|PXIGVBYXWL5DD4IQS...|   200|  im|\n",
      "+--------------------+--------------------+------+----+\n",
      "only showing top 20 rows\n",
      "\n"
     ]
    }
   ],
   "source": [
    "df.show()"
   ]
  },
  {
   "cell_type": "code",
   "execution_count": 7,
   "metadata": {},
   "outputs": [],
   "source": [
    "// 4. Count distinct originalUrls\n",
    "val dOu = df.select(df(\"originalUrl\")).distinct.count()"
   ]
  },
  {
   "cell_type": "code",
   "execution_count": 8,
   "metadata": {},
   "outputs": [
    {
     "data": {
      "text/plain": [
       "1454305"
      ]
     },
     "execution_count": 8,
     "metadata": {},
     "output_type": "execute_result"
    }
   ],
   "source": [
    "dOu"
   ]
  },
  {
   "cell_type": "code",
   "execution_count": 9,
   "metadata": {},
   "outputs": [],
   "source": [
    "// 5. srednia i mediana liczby wersji na pojedynczy URL\n",
    "import org.apache.spark.sql.functions.count\n",
    "import org.apache.spark.sql.functions._\n",
    "\n",
    "val mDu = df.groupBy(\"originalUrl\").agg(count(\"digest\") as \"digests\").orderBy(desc(\"digests\")).cache()"
   ]
  },
  {
   "cell_type": "code",
   "execution_count": 10,
   "metadata": {},
   "outputs": [
    {
     "name": "stdout",
     "output_type": "stream",
     "text": [
      "\r",
      "                                                                                \r",
      "+----------------------------------------------------------------------+-------+\n",
      "|originalUrl                                                           |digests|\n",
      "+----------------------------------------------------------------------+-------+\n",
      "|http://www.astro.amu.edu.pl:80/Library/TeX/latex2e.html               |348    |\n",
      "|http://rabarbar.se.com.pl:80/netware/02workst.html                    |336    |\n",
      "|http://tichy.ch.uj.edu.pl:80/lists/kola-l/date.html                   |312    |\n",
      "|http://tichy.ch.uj.edu.pl:80/lists/kola-l/index.html                  |266    |\n",
      "|http://geoinfo.amu.edu.pl:80/wpk/pro/D1B.HTM                          |262    |\n",
      "|http://tichy.ch.uj.edu.pl:80/lists/kola-l/author.html                 |238    |\n",
      "|http://geoinfo.amu.edu.pl:80/wpk/pro/D4.HTM                           |196    |\n",
      "|http://rabarbar.se.com.pl:80/netware/03serv.html                      |190    |\n",
      "|http://www.biblos.pk.edu.pl:80/SFgate/SFgate_5.html                   |160    |\n",
      "|http://www.ia.pw.edu.pl:80/Pl-dos/%7Ettraczyk/kbd1/k14.html           |154    |\n",
      "|http://rhea.waw.ids.edu.pl:80/space/tnp/help.html                     |136    |\n",
      "|http://mezon.if.uj.edu.pl:80/psj/RootHtmlDoc/html/ListOfTypes.html    |136    |\n",
      "|http://rhea.ids.pl:80/space/tnp/help.html                             |136    |\n",
      "|http://chall.ifj.edu.pl:80/DataSources/eegtti-2.3/eeg_toc.html        |128    |\n",
      "|http://www.ssw.krakow.pl:80/List/arch/author.html                     |124    |\n",
      "|http://alt.biblos.pk.edu.pl:80/SFgate/SFgate.html                     |124    |\n",
      "|http://www.ifj.edu.pl:80/%7Eolszewsk/RootHtmlDoc/html/ListOfTypes.html|120    |\n",
      "|http://www.ssw.krakow.pl:80/List/arch/subject.html                    |120    |\n",
      "|http://www.ifj.edu.pl:80/DataSources/eegtti-2.3/eeg_toc.html          |114    |\n",
      "|http://www.abc.com.pl:80/serwis/du/1997/0143.htm                      |114    |\n",
      "+----------------------------------------------------------------------+-------+\n",
      "only showing top 20 rows\n",
      "\n"
     ]
    }
   ],
   "source": [
    "mDu.show(false)"
   ]
  },
  {
   "cell_type": "code",
   "execution_count": 11,
   "metadata": {},
   "outputs": [
    {
     "name": "stdout",
     "output_type": "stream",
     "text": [
      "\r",
      "                                                                                \r",
      "+------------------+\n",
      "|      avg(digests)|\n",
      "+------------------+\n",
      "|3.1482721987478555|\n",
      "+------------------+\n",
      "\n"
     ]
    }
   ],
   "source": [
    "// 5.1 mean\n",
    "mDu.agg(avg(\"digests\")).show()"
   ]
  },
  {
   "cell_type": "code",
   "execution_count": 12,
   "metadata": {},
   "outputs": [
    {
     "name": "stdout",
     "output_type": "stream",
     "text": [
      "+------+\n",
      "|median|\n",
      "+------+\n",
      "|   2.0|\n",
      "+------+\n",
      "\n"
     ]
    }
   ],
   "source": [
    "// 5.2 median\n",
    "mDu.agg(expr(\"percentile(digests, 0.5)\").as(\"median\")).cache().show()"
   ]
  },
  {
   "cell_type": "code",
   "execution_count": 13,
   "metadata": {},
   "outputs": [
    {
     "data": {
      "text/plain": [
       "882080"
      ]
     },
     "execution_count": 13,
     "metadata": {},
     "output_type": "execute_result"
    }
   ],
   "source": [
    "// tab 2. A - statusy inne niz 200\n",
    "df.where(\"status != '200'\").count()"
   ]
  },
  {
   "cell_type": "code",
   "execution_count": 14,
   "metadata": {},
   "outputs": [
    {
     "data": {
      "text/plain": [
       "877678"
      ]
     },
     "execution_count": 14,
     "metadata": {},
     "output_type": "execute_result"
    }
   ],
   "source": [
    "// tab 2. A - statusy HTML inne niz 200\n",
    "df.where(\"mime == 'text/html'\").where(\"status != '200'\").count()"
   ]
  },
  {
   "cell_type": "code",
   "execution_count": 15,
   "metadata": {},
   "outputs": [
    {
     "name": "stdout",
     "output_type": "stream",
     "text": [
      "+--------------------+--------------------+------+---------+\n",
      "|         originalUrl|              digest|status|     mime|\n",
      "+--------------------+--------------------+------+---------+\n",
      "|http://www.stopkl...|GVN3W4BRKV5HTNYTR...|   404|text/html|\n",
      "|http://www.stopkl...|GVN3W4BRKV5HTNYTR...|   404|text/html|\n",
      "|http://www.stopkl...|GVN3W4BRKV5HTNYTR...|   404|text/html|\n",
      "|http://www.stopkl...|GVN3W4BRKV5HTNYTR...|   404|text/html|\n",
      "|http://www.stopkl...|GVN3W4BRKV5HTNYTR...|   404|text/html|\n",
      "|http://www.stopkl...|GVN3W4BRKV5HTNYTR...|   404|text/html|\n",
      "|http://www.stopkl...|GVN3W4BRKV5HTNYTR...|   404|text/html|\n",
      "|http://www.stopkl...|GVN3W4BRKV5HTNYTR...|   404|text/html|\n",
      "|http://www.stopkl...|GVN3W4BRKV5HTNYTR...|   404|text/html|\n",
      "|http://www.stopkl...|GVN3W4BRKV5HTNYTR...|   404|text/html|\n",
      "|http://www.stopkl...|GVN3W4BRKV5HTNYTR...|   404|text/html|\n",
      "|http://www.stopkl...|GVN3W4BRKV5HTNYTR...|   404|text/html|\n",
      "|http://www.stopkl...|GVN3W4BRKV5HTNYTR...|   404|text/html|\n",
      "|http://www.stopkl...|GVN3W4BRKV5HTNYTR...|   404|text/html|\n",
      "|http://www.stopkl...|GVN3W4BRKV5HTNYTR...|   404|text/html|\n",
      "|http://www.stopkl...|GVN3W4BRKV5HTNYTR...|   404|text/html|\n",
      "|http://www.stopkl...|GVN3W4BRKV5HTNYTR...|   404|text/html|\n",
      "|http://www.stopkl...|GVN3W4BRKV5HTNYTR...|   404|text/html|\n",
      "|http://www.stopkl...|GVN3W4BRKV5HTNYTR...|   404|text/html|\n",
      "|http://www.stopkl...|GVN3W4BRKV5HTNYTR...|   404|text/html|\n",
      "|http://www.stopkl...|GVN3W4BRKV5HTNYTR...|   404|text/html|\n",
      "|http://www.stopkl...|GVN3W4BRKV5HTNYTR...|   404|text/html|\n",
      "|http://www.stopkl...|GVN3W4BRKV5HTNYTR...|   404|text/html|\n",
      "|http://www.stopkl...|G7SQ6F3IMHLTBAZ5Z...|   302|text/html|\n",
      "|http://www.stopkl...|G7SQ6F3IMHLTBAZ5Z...|   302|text/html|\n",
      "|http://stopklatka...|YGVMA2JHWN4E6T6O3...|   302|text/html|\n",
      "|http://stopklatka...|YGVMA2JHWN4E6T6O3...|   302|text/html|\n",
      "|http://www.stopkl...|7SBBTWI6AQOANERXB...|   302|text/html|\n",
      "|http://www.stopkl...|7SBBTWI6AQOANERXB...|   302|text/html|\n",
      "|http://www.stopkl...|7SBBTWI6AQOANERXB...|   302|text/html|\n",
      "|http://www.stopkl...|7SBBTWI6AQOANERXB...|   302|text/html|\n",
      "|http://www.stopkl...|S2PBR3OJUSL7BCXM2...|   302|text/html|\n",
      "|http://www.stopkl...|S2PBR3OJUSL7BCXM2...|   302|text/html|\n",
      "|http://www.stopkl...|GVN3W4BRKV5HTNYTR...|   404|text/html|\n",
      "|http://www.stopkl...|GVN3W4BRKV5HTNYTR...|   404|text/html|\n",
      "|http://www.stopkl...|GVN3W4BRKV5HTNYTR...|   404|text/html|\n",
      "|http://www.stopkl...|GVN3W4BRKV5HTNYTR...|   404|text/html|\n",
      "|http://stopklatka...|GVN3W4BRKV5HTNYTR...|   404|text/html|\n",
      "|http://www.stopkl...|GVN3W4BRKV5HTNYTR...|   404|text/html|\n",
      "|http://www.stopkl...|GVN3W4BRKV5HTNYTR...|   404|text/html|\n",
      "|http://www.stopkl...|GVN3W4BRKV5HTNYTR...|   404|text/html|\n",
      "|http://www.stopkl...|GVN3W4BRKV5HTNYTR...|   404|text/html|\n",
      "|http://www.stopkl...|GVN3W4BRKV5HTNYTR...|   404|text/html|\n",
      "|http://www.stopkl...|GVN3W4BRKV5HTNYTR...|   404|text/html|\n",
      "|http://www.stopkl...|GVN3W4BRKV5HTNYTR...|   404|text/html|\n",
      "|http://www.stopkl...|GVN3W4BRKV5HTNYTR...|   404|text/html|\n",
      "|http://www.stopkl...|GVN3W4BRKV5HTNYTR...|   404|text/html|\n",
      "|http://www.stopkl...|GVN3W4BRKV5HTNYTR...|   404|text/html|\n",
      "|http://www.stopkl...|GVN3W4BRKV5HTNYTR...|   404|text/html|\n",
      "|http://www.stopkl...|GVN3W4BRKV5HTNYTR...|   404|text/html|\n",
      "|http://www.stopkl...|GVN3W4BRKV5HTNYTR...|   404|text/html|\n",
      "|http://www.stopkl...|GVN3W4BRKV5HTNYTR...|   404|text/html|\n",
      "|http://www.stopkl...|GVN3W4BRKV5HTNYTR...|   404|text/html|\n",
      "|http://www.stopkl...|GVN3W4BRKV5HTNYTR...|   404|text/html|\n",
      "|http://www.stopkl...|GVN3W4BRKV5HTNYTR...|   404|text/html|\n",
      "|http://www.stopkl...|GVN3W4BRKV5HTNYTR...|   404|text/html|\n",
      "|http://www.stopkl...|GVN3W4BRKV5HTNYTR...|   404|text/html|\n",
      "|http://www.stopkl...|APRS2IJH7VISVXMDF...|   302|text/html|\n",
      "|http://www.stopkl...|APRS2IJH7VISVXMDF...|   302|text/html|\n",
      "|http://www.stopkl...|APRS2IJH7VISVXMDF...|   302|text/html|\n",
      "|http://stopklatka...|UGJNMHE3E3WZXB4DD...|   302|text/html|\n",
      "|http://www.stopkl...|GVN3W4BRKV5HTNYTR...|   404|text/html|\n",
      "|http://www.stopkl...|GVN3W4BRKV5HTNYTR...|   404|text/html|\n",
      "|http://www.stopkl...|GVN3W4BRKV5HTNYTR...|   404|text/html|\n",
      "|http://www.stopkl...|GVN3W4BRKV5HTNYTR...|   404|text/html|\n",
      "|http://www.stopkl...|GVN3W4BRKV5HTNYTR...|   404|text/html|\n",
      "|http://www.stopkl...|GVN3W4BRKV5HTNYTR...|   404|text/html|\n",
      "|http://www.stopkl...|GVN3W4BRKV5HTNYTR...|   404|text/html|\n",
      "|http://www.stopkl...|GVN3W4BRKV5HTNYTR...|   404|text/html|\n",
      "|http://www.stopkl...|GVN3W4BRKV5HTNYTR...|   404|text/html|\n",
      "|http://www.stopkl...|GVN3W4BRKV5HTNYTR...|   404|text/html|\n",
      "|http://www.stopkl...|GVN3W4BRKV5HTNYTR...|   404|text/html|\n",
      "|http://www.stopkl...|GVN3W4BRKV5HTNYTR...|   404|text/html|\n",
      "|http://www.stopkl...|GVN3W4BRKV5HTNYTR...|   404|text/html|\n",
      "|http://www.stopkl...|GVN3W4BRKV5HTNYTR...|   404|text/html|\n",
      "|http://www.stopkl...|GVN3W4BRKV5HTNYTR...|   404|text/html|\n",
      "|http://www.stopkl...|GVN3W4BRKV5HTNYTR...|   404|text/html|\n",
      "|http://www.stopkl...|GVN3W4BRKV5HTNYTR...|   404|text/html|\n",
      "|http://www.stopkl...|GVN3W4BRKV5HTNYTR...|   404|text/html|\n",
      "|http://www.stopkl...|GVN3W4BRKV5HTNYTR...|   404|text/html|\n",
      "|http://www.stopkl...|GVN3W4BRKV5HTNYTR...|   404|text/html|\n",
      "|http://www.stopkl...|GVN3W4BRKV5HTNYTR...|   404|text/html|\n",
      "|http://www.stopkl...|GVN3W4BRKV5HTNYTR...|   404|text/html|\n",
      "|http://www.stopkl...|GVN3W4BRKV5HTNYTR...|   404|text/html|\n",
      "|http://www.stopkl...|GVN3W4BRKV5HTNYTR...|   404|text/html|\n",
      "|http://www.stopkl...|GVN3W4BRKV5HTNYTR...|   404|text/html|\n",
      "|http://www.stopkl...|GVN3W4BRKV5HTNYTR...|   404|text/html|\n",
      "|http://www.stopkl...|GVN3W4BRKV5HTNYTR...|   404|text/html|\n",
      "|http://www.stopkl...|GVN3W4BRKV5HTNYTR...|   404|text/html|\n",
      "|http://www.stopkl...|GVN3W4BRKV5HTNYTR...|   404|text/html|\n",
      "|http://www.stopkl...|GVN3W4BRKV5HTNYTR...|   404|text/html|\n",
      "|http://www.stopkl...|GVN3W4BRKV5HTNYTR...|   404|text/html|\n",
      "|http://www.stopkl...|GVN3W4BRKV5HTNYTR...|   404|text/html|\n",
      "|http://www.stopkl...|GVN3W4BRKV5HTNYTR...|   404|text/html|\n",
      "|http://www.stopkl...|GVN3W4BRKV5HTNYTR...|   404|text/html|\n",
      "|http://www.stopkl...|GVN3W4BRKV5HTNYTR...|   404|text/html|\n",
      "|http://www.stopkl...|GVN3W4BRKV5HTNYTR...|   404|text/html|\n",
      "|http://www.stopkl...|GVN3W4BRKV5HTNYTR...|   404|text/html|\n",
      "|http://www.stopkl...|GVN3W4BRKV5HTNYTR...|   404|text/html|\n",
      "|http://www.stopkl...|DAF3VWTQBW5MK6RTJ...|   302|text/html|\n",
      "|http://www.stopkl...|GVN3W4BRKV5HTNYTR...|   404|text/html|\n",
      "|http://www.stopkl...|TTENSOGMLDQQJSSES...|   302|text/html|\n",
      "|http://www.stopkl...|GVN3W4BRKV5HTNYTR...|   404|text/html|\n",
      "|http://www.stopkl...|GVN3W4BRKV5HTNYTR...|   404|text/html|\n",
      "|http://www.stopkl...|GVN3W4BRKV5HTNYTR...|   404|text/html|\n",
      "|http://www.stopkl...|VS3LPF4JWKMKNWBXN...|   302|text/html|\n",
      "|http://www.stopkl...|VS3LPF4JWKMKNWBXN...|   302|text/html|\n",
      "|http://www.stopkl...|2KLQKLRHBQ5MOMDDK...|   403|text/html|\n",
      "|http://www.stopkl...|2KLQKLRHBQ5MOMDDK...|   403|text/html|\n",
      "|http://mainhost.s...|KYTLZGHZ6ENI2FE7Q...|   404|text/html|\n",
      "|http://www.storm....|WXBTQOGI6G3U2DAC2...|   301|text/html|\n",
      "|http://www.storm....|WXBTQOGI6G3U2DAC2...|   301|text/html|\n",
      "|http://www.storm....|EZ3WW45GAW35SLES2...|   404|text/html|\n",
      "|http://www.storm....|EZ3WW45GAW35SLES2...|   404|text/html|\n",
      "|http://www.storm....|4UQ5NFJXO3OBUOO2U...|   404|text/html|\n",
      "|http://www.storm....|OAIMJDN5QUVHLMPBG...|   404|text/html|\n",
      "|http://www.storm....|7SC65DALSTNVQLGDT...|   404|text/html|\n",
      "|http://www.storm....|UZDONGQBSDC26L4L4...|   404|text/html|\n",
      "|http://www.storm....|K546HMHIZBQJZN6XW...|   404|text/html|\n",
      "|http://www.storm....|7YMIN7KYABWA3UNVV...|   404|text/html|\n",
      "|http://www.storm....|IX2S7HMVDAJIV76OP...|   404|text/html|\n",
      "|http://www.storm....|ZXUQM63VZBVGWQGGL...|   404|text/html|\n",
      "|http://www.storm....|KCWFI5ZN6R6SCGT4Z...|   404|text/html|\n",
      "|http://www.storm....|3PEFM7TALPMG44RFN...|   404|text/html|\n",
      "|http://www.storm....|YSHY5LOKJ4BFA444N...|   404|text/html|\n",
      "|http://www.storm....|KFQFJWVBFFTR32P2C...|   404|text/html|\n",
      "|http://www.storm....|FNMF5KDFFE5A2TTSQ...|   404|text/html|\n",
      "|http://www.storm....|5O7REBHWJ3FI253OR...|   404|text/html|\n",
      "|http://www.storm....|DZWL3QL5J4QK2JZ2W...|   404|text/html|\n",
      "|http://www.storm....|PHAJW2FJ3GDFGLYRN...|   404|text/html|\n",
      "|http://www.storm....|ULOERQASS2RI5SQ3W...|   404|text/html|\n",
      "|http://www.storm....|5KPDHW73AE3MYMF4M...|   404|text/html|\n",
      "|http://www.storm....|D7ONAAEELAUFUWS63...|   404|text/html|\n",
      "|http://www.storm....|33XG655WYI7SIJY5T...|   404|text/html|\n",
      "|http://www.storm....|KCRE2XPNPZQ3HVAM7...|   404|text/html|\n",
      "|http://www.storm....|2KOEQPXM6DCJJ7LTH...|   404|text/html|\n",
      "|http://www.storm....|VZT2TD7RR5JDEU4CF...|   404|text/html|\n",
      "|http://www.storm....|KV6AMBHBKQMQVLKI5...|   404|text/html|\n",
      "|http://www.storm....|Q65VC4IZEU4GD2PSM...|   404|text/html|\n",
      "|http://www.storm....|DD43QVZ3XKMSYZLB6...|   404|text/html|\n",
      "|http://www.storm....|FSLDVRDEGRTOEYZVA...|   404|text/html|\n",
      "|http://www.storm....|5CBLWY24YTMQNBXNV...|   404|text/html|\n",
      "|http://www.storm....|ACHIWUQLF67EAZMSU...|   404|text/html|\n",
      "|http://www.storm....|YHRDI6QSZHKWBE2A7...|   404|text/html|\n",
      "|http://www.storm....|DSN22PPMPZPBXZBTF...|   404|text/html|\n",
      "|http://www.storm....|KDQGXXN6WOT4EGPT4...|   404|text/html|\n",
      "|http://www.storm....|HANIO5XYK4DEUOT3W...|   404|text/html|\n",
      "|http://www.storm....|XBIW2J3YFLCMMQKYD...|   404|text/html|\n",
      "|http://www.storm....|ZKIWU5OQDA5ZCMQKD...|   404|text/html|\n",
      "|http://www.storm....|CPG4BFBQYYGAYNL2B...|   404|text/html|\n",
      "+--------------------+--------------------+------+---------+\n",
      "only showing top 150 rows\n",
      "\n"
     ]
    }
   ],
   "source": [
    "// test pls\n",
    "df.where(\"status != '200'\").show(150)"
   ]
  },
  {
   "cell_type": "code",
   "execution_count": 16,
   "metadata": {},
   "outputs": [
    {
     "name": "stdout",
     "output_type": "stream",
     "text": [
      "+--------------------+\n",
      "|count(DISTINCT mime)|\n",
      "+--------------------+\n",
      "|                  28|\n",
      "+--------------------+\n",
      "\n"
     ]
    }
   ],
   "source": [
    "// tab basic2.2\n",
    "// count distinct mime http 200\n",
    "df.where(\"status == '200'\").agg(countDistinct(\"mime\")).show()"
   ]
  },
  {
   "cell_type": "code",
   "execution_count": 17,
   "metadata": {},
   "outputs": [
    {
     "name": "stdout",
     "output_type": "stream",
     "text": [
      "+---------------+-------+\n",
      "|           mime|  count|\n",
      "+---------------+-------+\n",
      "|      text/html|3199434|\n",
      "|        text/pl| 207710|\n",
      "|             im| 196910|\n",
      "|            unk|  88550|\n",
      "|     text/plain|   2678|\n",
      "|         text/x|    344|\n",
      "|       text/css|    332|\n",
      "|              x|    216|\n",
      "|       text/rtf|     48|\n",
      "|          text/|     46|\n",
      "|         multip|     42|\n",
      "|         text/c|     34|\n",
      "|              m|     22|\n",
      "|     model/vrml|     16|\n",
      "|     video/mpeg|     16|\n",
      "|        video/x|     14|\n",
      "|        unknown|     12|\n",
      "|        test/pl|     10|\n",
      "|              -|      6|\n",
      "|     httpd/send|      4|\n",
      "|video/quicktime|      4|\n",
      "|           mess|      4|\n",
      "|            tpl|      4|\n",
      "|    www/unknown|      4|\n",
      "|       text/xml|      2|\n",
      "|        text/pt|      2|\n",
      "|         text/j|      2|\n",
      "|         text/t|      2|\n",
      "+---------------+-------+\n",
      "\n"
     ]
    }
   ],
   "source": [
    "// count all mimes counts\n",
    "df.where(\"status == '200'\").groupBy(\"mime\").count().orderBy(desc(\"count\")).cache().show(120)"
   ]
  },
  {
   "cell_type": "code",
   "execution_count": 5,
   "metadata": {},
   "outputs": [],
   "source": [
    "// for tests - liczba wersji na origina;Url\n",
    "import org.apache.spark.sql.functions.count\n",
    "import org.apache.spark.sql.functions._\n",
    "val vBu = df.groupBy(\"originalUrl\").agg(countDistinct(\"digest\") as \"distDigests\").cache()"
   ]
  },
  {
   "cell_type": "code",
   "execution_count": 6,
   "metadata": {},
   "outputs": [
    {
     "name": "stdout",
     "output_type": "stream",
     "text": [
      "+------------------+\n",
      "|        avgDigests|\n",
      "+------------------+\n",
      "|1.1653408329064399|\n",
      "+------------------+\n",
      "\n"
     ]
    }
   ],
   "source": [
    "// avg\n",
    "vBu.agg(avg(\"distDigests\") as \"avgDigests\").show()\n"
   ]
  },
  {
   "cell_type": "code",
   "execution_count": 7,
   "metadata": {},
   "outputs": [
    {
     "name": "stdout",
     "output_type": "stream",
     "text": [
      "\r",
      "                                                                                \r",
      "+----------+\n",
      "|medDigests|\n",
      "+----------+\n",
      "|       1.0|\n",
      "+----------+\n",
      "\n"
     ]
    }
   ],
   "source": [
    "vBu.agg(expr(\"percentile(distDigests, 0.5)\").as(\"medDigests\")).cache().show()\n"
   ]
  },
  {
   "cell_type": "code",
   "execution_count": null,
   "metadata": {},
   "outputs": [],
   "source": []
  }
 ],
 "metadata": {
  "kernelspec": {
   "display_name": "ArchiveSpark",
   "language": "",
   "name": "archivespark"
  },
  "language_info": {
   "name": "scala",
   "version": "2.11.8"
  }
 },
 "nbformat": 4,
 "nbformat_minor": 2
}
