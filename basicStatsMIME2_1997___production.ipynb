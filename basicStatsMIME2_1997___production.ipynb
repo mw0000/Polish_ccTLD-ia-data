{
 "cells": [
  {
   "cell_type": "code",
   "execution_count": 1,
   "metadata": {},
   "outputs": [],
   "source": [
    "// 1. Installation\n",
    "\n",
    "//install libraries\n",
    "import org.archive.archivespark._\n",
    "import org.archive.archivespark.functions._\n",
    "import org.archive.archivespark.specific.warc._\n",
    "\n",
    "// data files - generic path from docker run -v\n",
    "val cdxPath = \"/data/arc_cdx/*.cdx\"\n",
    "val warcPath = \"/data/warc\"\n",
    "\n",
    "import org.apache.spark.sql.{Row, SparkSession}\n",
    "\n",
    "val session = spark.newSession\n",
    "\n",
    "// collect all records\n",
    "\n",
    "val r = ArchiveSpark.load(WarcSpec.fromFiles(cdxPath, warcPath))"
   ]
  },
  {
   "cell_type": "code",
   "execution_count": 2,
   "metadata": {},
   "outputs": [],
   "source": [
    "val researchYear = \"1997\""
   ]
  },
  {
   "cell_type": "code",
   "execution_count": 3,
   "metadata": {},
   "outputs": [],
   "source": [
    "// 2. Count ALL objects from research Year\n",
    "// 2.1 get data for text/html & HTTP 200 for each Year\n",
    "val t1 = r.filter(r => r.timestamp.startsWith(researchYear))\n"
   ]
  },
  {
   "cell_type": "code",
   "execution_count": 4,
   "metadata": {},
   "outputs": [],
   "source": [
    "// 3. generate basic data frame\n",
    "\n",
    "val m = t1.map(f=> (f.originalUrl,f.digest,f.status,f.mime))\n",
    "val df = session.createDataFrame(m).toDF(\"originalUrl\",\"digest\",\"status\",\"mime\").cache()"
   ]
  },
  {
   "cell_type": "code",
   "execution_count": 5,
   "metadata": {},
   "outputs": [],
   "source": [
    "import org.apache.spark.sql.functions.count\n",
    "import org.apache.spark.sql.functions._\n"
   ]
  },
  {
   "cell_type": "code",
   "execution_count": 6,
   "metadata": {},
   "outputs": [
    {
     "name": "stdout",
     "output_type": "stream",
     "text": [
      "+---------------------------+\n",
      "|count(DISTINCT originalUrl)|\n",
      "+---------------------------+\n",
      "|                     658493|\n",
      "+---------------------------+\n",
      "\n"
     ]
    }
   ],
   "source": [
    "df.filter(df(\"mime\") === \"text/html\").select(countDistinct(\"originalUrl\")).show()"
   ]
  },
  {
   "cell_type": "code",
   "execution_count": 7,
   "metadata": {},
   "outputs": [
    {
     "name": "stdout",
     "output_type": "stream",
     "text": [
      "\r",
      "                                                                                \r",
      "+---------------------------+\n",
      "|count(DISTINCT originalUrl)|\n",
      "+---------------------------+\n",
      "|                    1087617|\n",
      "+---------------------------+\n",
      "\n"
     ]
    }
   ],
   "source": [
    "df.select(countDistinct(\"originalUrl\")).show()"
   ]
  },
  {
   "cell_type": "code",
   "execution_count": 8,
   "metadata": {},
   "outputs": [
    {
     "name": "stdout",
     "output_type": "stream",
     "text": [
      "+---------------------------------+------+\n",
      "|mime                             |URLs  |\n",
      "+---------------------------------+------+\n",
      "|text/html                        |658493|\n",
      "|image/gif                        |243201|\n",
      "|image/jpeg                       |116268|\n",
      "|text/plain                       |27526 |\n",
      "|application/zip                  |8735  |\n",
      "|application/pdf                  |8453  |\n",
      "|application/octet-stream         |4159  |\n",
      "|application/postscript           |4061  |\n",
      "|audio/x-midi                     |2977  |\n",
      "|audio/x-wav                      |2106  |\n",
      "|audio/x-mid                      |1787  |\n",
      "|application/x-tar                |1749  |\n",
      "|image/x-xbitmap                  |1084  |\n",
      "|application/x-gzip               |963   |\n",
      "|audio/midi                       |904   |\n",
      "|application/x-dvi                |684   |\n",
      "|image/x-xpixmap                  |494   |\n",
      "|application/x-tex                |483   |\n",
      "|audio/x-pn-realaudio             |393   |\n",
      "|application/mac-binhex40         |366   |\n",
      "|audio/x-mod                      |338   |\n",
      "|audio/basic                      |337   |\n",
      "|application/msword               |246   |\n",
      "|application/x-tardist            |209   |\n",
      "|video/quicktime                  |146   |\n",
      "|application/x-troff              |141   |\n",
      "|video/mpeg                       |140   |\n",
      "|multipart/x-zip                  |138   |\n",
      "|audio/x-mp3                      |94    |\n",
      "|audio/x-mpegurl                  |83    |\n",
      "|application/x-compress           |76    |\n",
      "|x-world/x-vrml                   |73    |\n",
      "|video/x-msvideo                  |66    |\n",
      "|image/tiff                       |61    |\n",
      "|audio/x-realaudio                |59    |\n",
      "|icons/gif                        |51    |\n",
      "|application/excel                |47    |\n",
      "|application/octet-string         |45    |\n",
      "|application/x-shar               |41    |\n",
      "|application/x-sh                 |39    |\n",
      "|audio/x-voc                      |37    |\n",
      "|video/xanim                      |27    |\n",
      "|text/x-sgml                      |27    |\n",
      "|video/x-ms-asf                   |25    |\n",
      "|application/x-msdownload         |25    |\n",
      "|application/x-troff-man          |19    |\n",
      "|audio/x-pn-realaudio-plugin      |19    |\n",
      "|video/avi                        |19    |\n",
      "|img/gif                          |16    |\n",
      "|audio/x-aiff                     |15    |\n",
      "|www/unknown                      |14    |\n",
      "|application/x-stuffit            |14    |\n",
      "|application/x-envoy              |12    |\n",
      "|application/rtf                  |12    |\n",
      "|application/x-netcdf             |12    |\n",
      "|unknown                          |10    |\n",
      "|image/x-cmu-raster               |9     |\n",
      "|application/x-troff-me           |8     |\n",
      "|chemical/x-pdb                   |7     |\n",
      "|application/x-troff-ms           |7     |\n",
      "|application/gzip                 |7     |\n",
      "|icons/jpeg                       |6     |\n",
      "|application/x-msword             |6     |\n",
      "|application/x-director           |5     |\n",
      "|application/arj                  |5     |\n",
      "|image/bmp                        |5     |\n",
      "|application/pc-exe               |4     |\n",
      "|application/x-mspowerpoint       |4     |\n",
      "|application/pgp                  |4     |\n",
      "|drawing/x-dwf                    |4     |\n",
      "|text/css                         |3     |\n",
      "|application/x-tcl                |3     |\n",
      "|text/x-imagemap                  |3     |\n",
      "|x-music/x-midi                   |3     |\n",
      "|application/exe                  |3     |\n",
      "|application/x-texinfo            |3     |\n",
      "|application/x-framemaker         |3     |\n",
      "|multipart/x-tar                  |3     |\n",
      "|audio/mpeg                       |3     |\n",
      "|audio/x-mpeg                     |2     |\n",
      "|test/plain                       |2     |\n",
      "|application/x-ns-proxy-autoconfig|2     |\n",
      "|application/x-midi               |2     |\n",
      "|application/x-rtf                |2     |\n",
      "|application/x-automail           |2     |\n",
      "|application/x-worldgroup         |2     |\n",
      "|application/x-x509-ca-cert       |2     |\n",
      "|application/x-wais-source        |2     |\n",
      "|application/x-mif                |2     |\n",
      "|application/x-msmetafile         |1     |\n",
      "|application/x-pcn-connection     |1     |\n",
      "|application/x-excel              |1     |\n",
      "|application/lha                  |1     |\n",
      "|text/x-server-parsed-html        |1     |\n",
      "|image/x-rgb                      |1     |\n",
      "|video/x-sgi-movie                |1     |\n",
      "|application/vnd.ms-excel         |1     |\n",
      "|multipart/x-mixed-replace        |1     |\n",
      "|application/x-hdf                |1     |\n",
      "|application/msdos                |1     |\n",
      "+---------------------------------+------+\n",
      "only showing top 100 rows\n",
      "\n"
     ]
    }
   ],
   "source": [
    "df.groupBy(\"mime\").agg(countDistinct(\"originalUrl\") as \"URLs\").orderBy(desc(\"URLs\")).show(100,false)"
   ]
  },
  {
   "cell_type": "code",
   "execution_count": 9,
   "metadata": {},
   "outputs": [
    {
     "data": {
      "text/plain": [
       "111"
      ]
     },
     "execution_count": 9,
     "metadata": {},
     "output_type": "execute_result"
    }
   ],
   "source": [
    "df.groupBy(\"mime\").agg(countDistinct(\"originalUrl\") as \"URLs\").count()"
   ]
  },
  {
   "cell_type": "code",
   "execution_count": null,
   "metadata": {},
   "outputs": [],
   "source": []
  }
 ],
 "metadata": {
  "kernelspec": {
   "display_name": "ArchiveSpark",
   "language": "",
   "name": "archivespark"
  },
  "language_info": {
   "name": "scala",
   "version": "2.11.8"
  }
 },
 "nbformat": 4,
 "nbformat_minor": 2
}
