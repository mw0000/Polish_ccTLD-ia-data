{
 "cells": [
  {
   "cell_type": "code",
   "execution_count": 1,
   "metadata": {},
   "outputs": [],
   "source": [
    "// 1. Installation\n",
    "\n",
    "//install libraries\n",
    "import org.archive.archivespark._\n",
    "import org.archive.archivespark.functions._\n",
    "import org.archive.archivespark.specific.warc._\n",
    "\n",
    "// data files - generic path from docker run -v\n",
    "val cdxPath = \"/data/arc_cdx/*.cdx\"\n",
    "val warcPath = \"/data/warc\"\n",
    "\n",
    "import org.apache.spark.sql.{Row, SparkSession}\n",
    "\n",
    "val session = spark.newSession\n",
    "\n",
    "// collect all records\n",
    "\n",
    "val r = ArchiveSpark.load(WarcSpec.fromFiles(cdxPath, warcPath))"
   ]
  },
  {
   "cell_type": "code",
   "execution_count": 2,
   "metadata": {},
   "outputs": [],
   "source": [
    "val researchYear = \"1997\""
   ]
  },
  {
   "cell_type": "code",
   "execution_count": 3,
   "metadata": {},
   "outputs": [],
   "source": [
    "// 2. Count ALL objects from research Year\n",
    "// 2.1 get data for text/html & HTTP 200 for each Year\n",
    "val t1 = r.filter(r => r.timestamp.startsWith(researchYear))\n"
   ]
  },
  {
   "cell_type": "code",
   "execution_count": 4,
   "metadata": {},
   "outputs": [
    {
     "data": {
      "text/plain": [
       "2781718"
      ]
     },
     "execution_count": 4,
     "metadata": {},
     "output_type": "execute_result"
    }
   ],
   "source": [
    "// 2.2 count all captures\n",
    "t1.count()"
   ]
  },
  {
   "cell_type": "code",
   "execution_count": 4,
   "metadata": {},
   "outputs": [],
   "source": [
    "// 3. generate basic data frame\n",
    "\n",
    "val m = t1.map(f=> (f.originalUrl,f.digest,f.status,f.mime))\n",
    "val df = session.createDataFrame(m).toDF(\"originalUrl\",\"digest\",\"status\",\"mime\").cache()"
   ]
  },
  {
   "cell_type": "code",
   "execution_count": 6,
   "metadata": {},
   "outputs": [
    {
     "name": "stdout",
     "output_type": "stream",
     "text": [
      "+--------------------+--------------------+------+---------+\n",
      "|         originalUrl|              digest|status|     mime|\n",
      "+--------------------+--------------------+------+---------+\n",
      "|http://www.studio...|5X7EV33KXBGQUF7XW...|   200|text/html|\n",
      "|http://studio-net...|TVN2SQJDU3XFTES5E...|   200|text/html|\n",
      "|http://www.studio...|L2M6VE6737CGB65YW...|   200|text/html|\n",
      "|http://www.studio...|VLPJ6Q7ZMVDEVXXF3...|   200|text/html|\n",
      "|http://www.studio...|J4R7IMDXCMXRNTPXJ...|   200|text/html|\n",
      "|http://www.studio...|MBYKBKK36SHB7TWQO...|   200|text/html|\n",
      "|http://www.studio...|CVZV3EDBNJLXNY5S7...|   200|text/html|\n",
      "|http://www.studio...|WI6PMP3M5L2VQORHT...|   200|text/html|\n",
      "|http://www.studio...|NRGJMHR7XLW2IOL5Q...|   200|text/html|\n",
      "|http://www.studio...|7S6HCTHOWNN52U5LP...|   200|text/html|\n",
      "|http://www.studio...|ZZX3XDRVLL2UQLSEK...|   200|text/html|\n",
      "|http://www.studio...|KGG5MPKE6AG5IG3IY...|   200|text/html|\n",
      "|http://www.studio...|NYC6TZ3X7U5MEUUNA...|   200|text/html|\n",
      "|http://www.studio...|YYGMZQAZTVJT6UP7W...|   200|text/html|\n",
      "|http://www.studio...|H3WD47SQCX2ZU3SNC...|   200|text/html|\n",
      "|http://www.studio...|L3JBJMMQSX57IFS4R...|   200|text/html|\n",
      "|http://www.studio...|FGQ3EYFY3OBSLDPXM...|   200|text/html|\n",
      "|http://www.studio...|EYEB7YU5N7YP4Y322...|   200|text/html|\n",
      "|http://www.studio...|AY5YHS2BX3JHKBFFZ...|   200|text/html|\n",
      "|http://www.studio...|JGC6ZXMS675MNNGEE...|   200|text/html|\n",
      "+--------------------+--------------------+------+---------+\n",
      "only showing top 20 rows\n",
      "\n"
     ]
    }
   ],
   "source": [
    "df.show()"
   ]
  },
  {
   "cell_type": "code",
   "execution_count": 7,
   "metadata": {},
   "outputs": [
    {
     "data": {
      "text/plain": [
       "2781718"
      ]
     },
     "execution_count": 7,
     "metadata": {},
     "output_type": "execute_result"
    }
   ],
   "source": [
    "// 2781718 OK\n",
    "df.count()"
   ]
  },
  {
   "cell_type": "code",
   "execution_count": 8,
   "metadata": {},
   "outputs": [],
   "source": [
    "// 4. Count distinct originalUrls\n",
    "val dOu = df.select(df(\"originalUrl\")).distinct.count()"
   ]
  },
  {
   "cell_type": "code",
   "execution_count": 9,
   "metadata": {},
   "outputs": [
    {
     "data": {
      "text/plain": [
       "1087617"
      ]
     },
     "execution_count": 9,
     "metadata": {},
     "output_type": "execute_result"
    }
   ],
   "source": [
    "dOu"
   ]
  },
  {
   "cell_type": "code",
   "execution_count": 10,
   "metadata": {},
   "outputs": [],
   "source": [
    "// 5. srednia i mediana liczby wersji na pojedynczy URL\n",
    "import org.apache.spark.sql.functions.count\n",
    "import org.apache.spark.sql.functions._\n",
    "\n",
    "val mDu = df.groupBy(\"originalUrl\").agg(count(\"digest\") as \"digests\").orderBy(desc(\"digests\")).cache()"
   ]
  },
  {
   "cell_type": "code",
   "execution_count": 11,
   "metadata": {},
   "outputs": [
    {
     "name": "stdout",
     "output_type": "stream",
     "text": [
      "+----------------------------------------------------+-------+\n",
      "|originalUrl                                         |digests|\n",
      "+----------------------------------------------------+-------+\n",
      "|http://www.mat.uni.torun.pl:80/res/mpi/up.xbm       |42     |\n",
      "|http://www.chem.uni.wroc.pl:80/back.gif             |42     |\n",
      "|http://www.mat.uni.torun.pl:80/res/mpi/previous.xbm |42     |\n",
      "|http://www.mat.uni.torun.pl:80/res/mpi/next.xbm     |42     |\n",
      "|http://sol.put.poznan.pl:8000/dz96/owa/Dz96.MainMenu|36     |\n",
      "|http://www.chem.uni.wroc.pl:80/inforeng.htm         |32     |\n",
      "|http://www.chem.uni.wroc.pl:80/info.gif             |32     |\n",
      "|http://www.chem.uni.wroc.pl:80/science.gif          |32     |\n",
      "|http://www.chem.uni.wroc.pl:80/indexpol.htm         |30     |\n",
      "|http://www.chem.uni.wroc.pl:80/index.htm            |30     |\n",
      "|http://www.chem.uni.wroc.pl:80/sobczyk.htm          |28     |\n",
      "|http://www.chem.uni.wroc.pl:80/ziolkow.htm          |28     |\n",
      "|http://www.chem.uni.wroc.pl:80/rudolf.htm           |28     |\n",
      "|http://www.chem.uni.wroc.pl:80/glin.htm             |28     |\n",
      "|http://www.chem.uni.wroc.pl:80/confeng.htm          |28     |\n",
      "|http://www.chem.uni.wroc.pl:80/siemion.htm          |28     |\n",
      "|http://www.chem.uni.wroc.pl:80/latos.htm            |28     |\n",
      "|http://www.chem.uni.wroc.pl:80/kozlows.htm          |28     |\n",
      "|http://www.chem.uni.wroc.pl:80/konopin.htm          |28     |\n",
      "|http://www.chem.uni.wroc.pl:80/sobota.htm           |28     |\n",
      "+----------------------------------------------------+-------+\n",
      "only showing top 20 rows\n",
      "\n"
     ]
    }
   ],
   "source": [
    "mDu.show(false)"
   ]
  },
  {
   "cell_type": "code",
   "execution_count": 12,
   "metadata": {},
   "outputs": [
    {
     "name": "stdout",
     "output_type": "stream",
     "text": [
      "+------------------+\n",
      "|      avg(digests)|\n",
      "+------------------+\n",
      "|2.5576264438676484|\n",
      "+------------------+\n",
      "\n"
     ]
    }
   ],
   "source": [
    "// 5.1 mean\n",
    "mDu.agg(avg(\"digests\")).show()"
   ]
  },
  {
   "cell_type": "code",
   "execution_count": 14,
   "metadata": {},
   "outputs": [
    {
     "name": "stdout",
     "output_type": "stream",
     "text": [
      "+------+\n",
      "|median|\n",
      "+------+\n",
      "|   2.0|\n",
      "+------+\n",
      "\n"
     ]
    }
   ],
   "source": [
    "// 5.2 median\n",
    "mDu.agg(expr(\"percentile(digests, 0.5)\").as(\"median\")).cache().show()"
   ]
  },
  {
   "cell_type": "code",
   "execution_count": 15,
   "metadata": {},
   "outputs": [
    {
     "data": {
      "text/plain": [
       "0"
      ]
     },
     "execution_count": 15,
     "metadata": {},
     "output_type": "execute_result"
    }
   ],
   "source": [
    "// tab 2. A - statusy inne niz 200\n",
    "df.where(\"status != '200'\").count()"
   ]
  },
  {
   "cell_type": "code",
   "execution_count": 16,
   "metadata": {},
   "outputs": [
    {
     "data": {
      "text/plain": [
       "0"
      ]
     },
     "execution_count": 16,
     "metadata": {},
     "output_type": "execute_result"
    }
   ],
   "source": [
    "// tab 2. A - statusy HTML inne niz 200\n",
    "df.where(\"mime == 'text/html'\").where(\"status != '200'\").count()"
   ]
  },
  {
   "cell_type": "code",
   "execution_count": 17,
   "metadata": {},
   "outputs": [
    {
     "name": "stdout",
     "output_type": "stream",
     "text": [
      "+-----------+------+------+----+\n",
      "|originalUrl|digest|status|mime|\n",
      "+-----------+------+------+----+\n",
      "+-----------+------+------+----+\n",
      "\n"
     ]
    }
   ],
   "source": [
    "// test pls\n",
    "df.where(\"status != '200'\").show(150)"
   ]
  },
  {
   "cell_type": "code",
   "execution_count": 18,
   "metadata": {},
   "outputs": [
    {
     "name": "stdout",
     "output_type": "stream",
     "text": [
      "+--------------------+\n",
      "|count(DISTINCT mime)|\n",
      "+--------------------+\n",
      "|                 111|\n",
      "+--------------------+\n",
      "\n"
     ]
    }
   ],
   "source": [
    "// tab basic2.2\n",
    "// count distinct mime http 200\n",
    "df.where(\"status == '200'\").agg(countDistinct(\"mime\")).show()"
   ]
  },
  {
   "cell_type": "code",
   "execution_count": 20,
   "metadata": {},
   "outputs": [
    {
     "name": "stdout",
     "output_type": "stream",
     "text": [
      "+--------------------+-------+\n",
      "|                mime|  count|\n",
      "+--------------------+-------+\n",
      "|           text/html|1697478|\n",
      "|           image/gif| 629700|\n",
      "|          image/jpeg| 291938|\n",
      "|          text/plain|  65666|\n",
      "|     application/zip|  20426|\n",
      "|     application/pdf|  17040|\n",
      "|application/posts...|  11130|\n",
      "|application/octet...|  10068|\n",
      "|        audio/x-midi|   6820|\n",
      "|         audio/x-wav|   4704|\n",
      "|   application/x-tar|   3904|\n",
      "|         audio/x-mid|   3574|\n",
      "|     image/x-xbitmap|   2790|\n",
      "|  application/x-gzip|   2008|\n",
      "|          audio/midi|   1838|\n",
      "|   application/x-dvi|   1532|\n",
      "|audio/x-pn-realaudio|   1162|\n",
      "|   application/x-tex|   1094|\n",
      "|     image/x-xpixmap|    988|\n",
      "|application/mac-b...|    954|\n",
      "|         audio/basic|    842|\n",
      "|         audio/x-mod|    676|\n",
      "|  application/msword|    584|\n",
      "| application/x-troff|    558|\n",
      "|application/x-tar...|    450|\n",
      "|     multipart/x-zip|    344|\n",
      "|     video/quicktime|    330|\n",
      "|          video/mpeg|    318|\n",
      "|         audio/x-mp3|    262|\n",
      "|           icons/gif|    170|\n",
      "|      x-world/x-vrml|    168|\n",
      "|     audio/x-mpegurl|    166|\n",
      "|   audio/x-realaudio|    166|\n",
      "|     video/x-msvideo|    154|\n",
      "|application/x-com...|    154|\n",
      "|          image/tiff|    146|\n",
      "|   application/excel|     94|\n",
      "|application/octet...|     90|\n",
      "|    application/x-sh|     86|\n",
      "|  application/x-shar|     84|\n",
      "|         audio/x-voc|     74|\n",
      "|         text/x-sgml|     66|\n",
      "|             img/gif|     62|\n",
      "|         video/xanim|     54|\n",
      "|      video/x-ms-asf|     50|\n",
      "|application/x-msd...|     50|\n",
      "|audio/x-pn-realau...|     44|\n",
      "|application/x-tro...|     44|\n",
      "|           video/avi|     38|\n",
      "|     application/rtf|     38|\n",
      "|        audio/x-aiff|     34|\n",
      "|application/x-stu...|     32|\n",
      "|application/x-netcdf|     28|\n",
      "|         www/unknown|     28|\n",
      "| application/x-envoy|     24|\n",
      "|             unknown|     20|\n",
      "|application/x-tro...|     20|\n",
      "|application/x-tro...|     20|\n",
      "|application/x-msword|     18|\n",
      "|  image/x-cmu-raster|     18|\n",
      "|  application/pc-exe|     16|\n",
      "|      chemical/x-pdb|     14|\n",
      "|    application/gzip|     14|\n",
      "|     multipart/x-tar|     14|\n",
      "|          icons/jpeg|     12|\n",
      "|application/x-fra...|     12|\n",
      "|           image/bmp|     10|\n",
      "|application/x-dir...|     10|\n",
      "|     application/pgp|     10|\n",
      "|     application/arj|     10|\n",
      "|     application/exe|      8|\n",
      "|application/x-ns-...|      8|\n",
      "|application/x-msp...|      8|\n",
      "|          test/plain|      8|\n",
      "|       text/x-setext|      8|\n",
      "|       drawing/x-dwf|      8|\n",
      "|application/x-wor...|      8|\n",
      "|          audio/mpeg|      6|\n",
      "|            text/css|      6|\n",
      "|           audio/wav|      6|\n",
      "|   application/x-tcl|      6|\n",
      "|     text/x-imagemap|      6|\n",
      "|application/x-tex...|      6|\n",
      "|application/x-x50...|      6|\n",
      "|      x-music/x-midi|      6|\n",
      "|        audio/x-mpeg|      4|\n",
      "|   application/x-rtf|      4|\n",
      "|         image/x-rgb|      4|\n",
      "|text/x-server-par...|      4|\n",
      "|application/x-aut...|      4|\n",
      "|      chemical/x-xyz|      4|\n",
      "|      x-world/x-3dmf|      4|\n",
      "|multipart/x-mixed...|      4|\n",
      "|application/x-wai...|      4|\n",
      "|  application/x-midi|      4|\n",
      "|   application/x-mif|      4|\n",
      "|     application/rar|      2|\n",
      "|         image/x-png|      2|\n",
      "|application/x-msm...|      2|\n",
      "|            gzip.zip|      2|\n",
      "| application/x-latex|      2|\n",
      "| application/x-excel|      2|\n",
      "|          audio/x-ra|      2|\n",
      "|   video/x-sgi-movie|      2|\n",
      "|             bin/bin|      2|\n",
      "|application/x-pcn...|      2|\n",
      "|application/vnd.m...|      2|\n",
      "|     image/x-mgx-dsf|      2|\n",
      "|   application/x-hdf|      2|\n",
      "|     application/lha|      2|\n",
      "|   application/msdos|      2|\n",
      "+--------------------+-------+\n",
      "\n"
     ]
    }
   ],
   "source": [
    "// count all mimes counts\n",
    "df.where(\"status == '200'\").groupBy(\"mime\").count().orderBy(desc(\"count\")).cache().show(120)"
   ]
  },
  {
   "cell_type": "code",
   "execution_count": 5,
   "metadata": {},
   "outputs": [],
   "source": [
    "// for tests - liczba wersji na origina;Url\n",
    "import org.apache.spark.sql.functions.count\n",
    "import org.apache.spark.sql.functions._\n",
    "\n",
    "val vBu = df.groupBy(\"originalUrl\").agg(countDistinct(\"digest\") as \"distDigests\").cache()\n"
   ]
  },
  {
   "cell_type": "code",
   "execution_count": 6,
   "metadata": {},
   "outputs": [
    {
     "name": "stdout",
     "output_type": "stream",
     "text": [
      "+------------------+\n",
      "|        avgDigests|\n",
      "+------------------+\n",
      "|1.0393419742427712|\n",
      "+------------------+\n",
      "\n"
     ]
    }
   ],
   "source": [
    "// avg\n",
    "vBu.agg(avg(\"distDigests\") as \"avgDigests\").show()\n"
   ]
  },
  {
   "cell_type": "code",
   "execution_count": 7,
   "metadata": {},
   "outputs": [
    {
     "name": "stdout",
     "output_type": "stream",
     "text": [
      "\r",
      "                                                                                \r",
      "+----------+\n",
      "|medDigests|\n",
      "+----------+\n",
      "|       1.0|\n",
      "+----------+\n",
      "\n"
     ]
    }
   ],
   "source": [
    "vBu.agg(expr(\"percentile(distDigests, 0.5)\").as(\"medDigests\")).cache().show()"
   ]
  },
  {
   "cell_type": "code",
   "execution_count": null,
   "metadata": {},
   "outputs": [],
   "source": []
  }
 ],
 "metadata": {
  "kernelspec": {
   "display_name": "ArchiveSpark",
   "language": "",
   "name": "archivespark"
  },
  "language_info": {
   "name": "scala",
   "version": "2.11.8"
  }
 },
 "nbformat": 4,
 "nbformat_minor": 2
}
