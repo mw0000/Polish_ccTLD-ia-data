{
 "cells": [
  {
   "cell_type": "code",
   "execution_count": 1,
   "metadata": {},
   "outputs": [],
   "source": [
    "// 1. Installation\n",
    "\n",
    "//install libraries\n",
    "import org.archive.archivespark._\n",
    "import org.archive.archivespark.functions._\n",
    "import org.archive.archivespark.specific.warc._\n",
    "\n",
    "// data files - generic path from docker run -v\n",
    "val cdxPath = \"/data/arc_cdx/*.cdx\"\n",
    "val warcPath = \"/data/warc\"\n",
    "\n",
    "import org.apache.spark.sql.{Row, SparkSession}\n",
    "\n",
    "val session = spark.newSession\n",
    "\n",
    "// collect all records\n",
    "\n",
    "val r = ArchiveSpark.load(WarcSpec.fromFiles(cdxPath, warcPath))"
   ]
  },
  {
   "cell_type": "code",
   "execution_count": 2,
   "metadata": {},
   "outputs": [],
   "source": [
    "val researchYear = \"1998\""
   ]
  },
  {
   "cell_type": "code",
   "execution_count": 3,
   "metadata": {},
   "outputs": [],
   "source": [
    "// 2. Count ALL objects from research Year\n",
    "// 2.1 get data for text/html & HTTP 200 for each Year\n",
    "val t1 = r.filter(r => r.timestamp.startsWith(researchYear))\n"
   ]
  },
  {
   "cell_type": "code",
   "execution_count": 4,
   "metadata": {},
   "outputs": [
    {
     "data": {
      "text/plain": [
       "2250522"
      ]
     },
     "execution_count": 4,
     "metadata": {},
     "output_type": "execute_result"
    }
   ],
   "source": [
    "// 2.2 count all captures\n",
    "t1.count()"
   ]
  },
  {
   "cell_type": "code",
   "execution_count": 4,
   "metadata": {},
   "outputs": [],
   "source": [
    "// 3. generate basic data frame\n",
    "\n",
    "val m = t1.map(f=> (f.originalUrl,f.digest,f.status,f.mime))\n",
    "val df = session.createDataFrame(m).toDF(\"originalUrl\",\"digest\",\"status\",\"mime\").cache()"
   ]
  },
  {
   "cell_type": "code",
   "execution_count": 6,
   "metadata": {},
   "outputs": [
    {
     "name": "stdout",
     "output_type": "stream",
     "text": [
      "+--------------------+--------------------+------+---------+\n",
      "|         originalUrl|              digest|status|     mime|\n",
      "+--------------------+--------------------+------+---------+\n",
      "|http://www.stopkl...|G7SQ6F3IMHLTBAZ5Z...|   302|text/html|\n",
      "|http://www.stopkl...|5MX53IFSYWBYOZVBN...|   200|text/html|\n",
      "|http://www.stopkl...|Y4UAHXJNEK7NPP2T6...|   200|text/html|\n",
      "|http://www.stopkl...|BHPSWSK5XFB4VP2S6...|   200|       im|\n",
      "|http://www.stopkl...|R2TANLIXFELSNSEMX...|   200|       im|\n",
      "|http://www.stopkl...|Q4A5MNMPVNGTPVZSD...|   200|       im|\n",
      "|http://www.stopkl...|KGNNCNPZCNB3CAI62...|   200|       im|\n",
      "|http://www.stopkl...|HMYVBW5MJ2B4J2JM3...|   200|       im|\n",
      "|http://www.stopkl...|H52KVNASDQSWKJCSA...|   200|       im|\n",
      "|http://www.stopkl...|5WDIUDCJ65L5ZDWLT...|   200|       im|\n",
      "|http://www.stopkl...|7L34GZ3RAUKPWKOUD...|   200|text/html|\n",
      "|http://www.stopkl...|3QM4MVL6QMDQYJG5T...|   200|text/html|\n",
      "|http://www.stopkl...|EML734Z5AU2RTK3CQ...|   200|text/html|\n",
      "|http://www.stopkl...|PJBWMVDVHYZNPRD5V...|   200|text/html|\n",
      "|http://www.stopkl...|OPFZD2MTJHQYXC4RR...|   200|text/html|\n",
      "|http://www.stopkl...|GXUNM7KY5ITGJMEIB...|   200|text/html|\n",
      "|http://www.stopkl...|NI6FRSTSYUZBPWIV4...|   200|text/html|\n",
      "|http://www.stopkl...|DAF3VWTQBW5MK6RTJ...|   302|text/html|\n",
      "|http://www.stopkl...|VS3LPF4JWKMKNWBXN...|   302|text/html|\n",
      "|http://www.stopkl...|3FHUEJBAZCMTYO2FM...|   200|text/html|\n",
      "+--------------------+--------------------+------+---------+\n",
      "only showing top 20 rows\n",
      "\n"
     ]
    }
   ],
   "source": [
    "df.show()"
   ]
  },
  {
   "cell_type": "code",
   "execution_count": 7,
   "metadata": {},
   "outputs": [],
   "source": [
    "// 4. Count distinct originalUrls\n",
    "val dOu = df.select(df(\"originalUrl\")).distinct.count()"
   ]
  },
  {
   "cell_type": "code",
   "execution_count": 8,
   "metadata": {},
   "outputs": [
    {
     "data": {
      "text/plain": [
       "875773"
      ]
     },
     "execution_count": 8,
     "metadata": {},
     "output_type": "execute_result"
    }
   ],
   "source": [
    "dOu"
   ]
  },
  {
   "cell_type": "code",
   "execution_count": 9,
   "metadata": {},
   "outputs": [],
   "source": [
    "// 5. srednia i mediana liczby wersji na pojedynczy URL\n",
    "import org.apache.spark.sql.functions.count\n",
    "import org.apache.spark.sql.functions._\n",
    "\n",
    "val mDu = df.groupBy(\"originalUrl\").agg(count(\"digest\") as \"digests\").orderBy(desc(\"digests\")).cache()"
   ]
  },
  {
   "cell_type": "code",
   "execution_count": 10,
   "metadata": {},
   "outputs": [
    {
     "name": "stdout",
     "output_type": "stream",
     "text": [
      "\r",
      "                                                                                \r",
      "+---------------------------------------------------------------+-------+\n",
      "|originalUrl                                                    |digests|\n",
      "+---------------------------------------------------------------+-------+\n",
      "|http://waclaw.fema.krakow.pl:80/ifem98/ifem98.html             |28     |\n",
      "|http://kos.man.koszalin.pl:80/doc/UNIXhelp1.3/index.html       |26     |\n",
      "|http://waclaw.fema.krakow.pl:80/fema98/menu.html               |26     |\n",
      "|http://waclaw.fema.krakow.pl:80/biblio.htm                     |26     |\n",
      "|http://omega.uni.man.szczecin.pl:80/firma/struktur.htm         |24     |\n",
      "|http://waclaw.fema.krakow.pl:80/fema/nieruch.htm               |22     |\n",
      "|http://omega.uni.man.szczecin.pl:80/firma/chrakter.htm         |22     |\n",
      "|http://www.usaemb.pl:80/default.htm                            |22     |\n",
      "|http://kos.man.koszalin.pl:80/doc/UNIXhelp1.3/index/index.html |22     |\n",
      "|http://www.ichem.com.pl:80/Obrazy/ichem-t.gif                  |20     |\n",
      "|http://www.ichem.com.pl:80/index_pw.html                       |20     |\n",
      "|http://omega.im.wsp.zgora.pl:80/wykaz_pracownikow.html         |20     |\n",
      "|http://www.ichem.com.pl:80/ofer_pw.html                        |20     |\n",
      "|http://cclan.fuw.edu.pl:80/tech-doc/MatLab/ReferenceTOC.html   |20     |\n",
      "|http://omega.im.wsp.zgora.pl:80/struktura_organizacyjna.html   |20     |\n",
      "|http://juggernaut.eti.pg.gda.pl:80/STUDIA/PROGRAMY/EiT_inz.htm |18     |\n",
      "|http://omega.uni.man.szczecin.pl:80/Personal/spychacz/Index.htm|18     |\n",
      "|http://juggernaut.eti.pg.gda.pl:80/webmakers.html              |18     |\n",
      "|http://omega.uni.man.szczecin.pl:80/Personal/spychacz/1997.htm |18     |\n",
      "|http://www.t16.ds.pwr.wroc.pl:80/~mala_mi/index.htm            |18     |\n",
      "+---------------------------------------------------------------+-------+\n",
      "only showing top 20 rows\n",
      "\n"
     ]
    }
   ],
   "source": [
    "mDu.show(false)"
   ]
  },
  {
   "cell_type": "code",
   "execution_count": 11,
   "metadata": {},
   "outputs": [
    {
     "name": "stdout",
     "output_type": "stream",
     "text": [
      "\r",
      "                                                                                \r",
      "+-----------------+\n",
      "|     avg(digests)|\n",
      "+-----------------+\n",
      "|2.569754947914585|\n",
      "+-----------------+\n",
      "\n"
     ]
    }
   ],
   "source": [
    "// 5.1 mean\n",
    "mDu.agg(avg(\"digests\")).show()"
   ]
  },
  {
   "cell_type": "code",
   "execution_count": 12,
   "metadata": {},
   "outputs": [
    {
     "name": "stdout",
     "output_type": "stream",
     "text": [
      "+------+\n",
      "|median|\n",
      "+------+\n",
      "|   2.0|\n",
      "+------+\n",
      "\n"
     ]
    }
   ],
   "source": [
    "// 5.2 median\n",
    "mDu.agg(expr(\"percentile(digests, 0.5)\").as(\"median\")).cache().show()"
   ]
  },
  {
   "cell_type": "code",
   "execution_count": 13,
   "metadata": {},
   "outputs": [
    {
     "data": {
      "text/plain": [
       "33776"
      ]
     },
     "execution_count": 13,
     "metadata": {},
     "output_type": "execute_result"
    }
   ],
   "source": [
    "// tab 2. A - statusy inne niz 200\n",
    "df.where(\"status != '200'\").count()"
   ]
  },
  {
   "cell_type": "code",
   "execution_count": 14,
   "metadata": {},
   "outputs": [
    {
     "data": {
      "text/plain": [
       "33740"
      ]
     },
     "execution_count": 14,
     "metadata": {},
     "output_type": "execute_result"
    }
   ],
   "source": [
    "// tab 2. A - statusy HTML inne niz 200\n",
    "df.where(\"mime == 'text/html'\").where(\"status != '200'\").count()"
   ]
  },
  {
   "cell_type": "code",
   "execution_count": 15,
   "metadata": {},
   "outputs": [
    {
     "name": "stdout",
     "output_type": "stream",
     "text": [
      "+--------------------+--------------------+------+----------+\n",
      "|         originalUrl|              digest|status|      mime|\n",
      "+--------------------+--------------------+------+----------+\n",
      "|http://www.stopkl...|G7SQ6F3IMHLTBAZ5Z...|   302| text/html|\n",
      "|http://www.stopkl...|DAF3VWTQBW5MK6RTJ...|   302| text/html|\n",
      "|http://www.stopkl...|VS3LPF4JWKMKNWBXN...|   302| text/html|\n",
      "|http://www.storm....|T3I4MPQKV3GXCROU6...|   301| text/html|\n",
      "|http://www.storm....|3HBQ2HGGI7XR7RMRG...|   301| text/html|\n",
      "|http://www.stpbis...|K4NQKMQW3GW7P7R2B...|   302| text/html|\n",
      "|http://studio-net...|WSFLSREBXGWJGUEXB...|   301| text/html|\n",
      "|http://www.studio...|INYVOMXANN57HQRH5...|   302| text/html|\n",
      "|http://www.studio...|NRHYITSX7WLSR7CQA...|   302| text/html|\n",
      "|http://www.studio...|7A5NFFVJVFGHAPUAA...|   302| text/html|\n",
      "|http://www.studio...|YYE5YDOLGIPVFGWX5...|   302| text/html|\n",
      "|http://www.studio...|24LQY7EILDLMGLJ2Y...|   302| text/html|\n",
      "|http://www.studio...|MCS4OEONBXOJ65RXZ...|   302| text/html|\n",
      "|http://www.studio...|IUSFOFM7HE3TJ6U4V...|   302| text/html|\n",
      "|http://www.studio...|EAV6GTAO5IEJFOC67...|   302| text/html|\n",
      "|http://www.studio...|LE2XVQ3ZSKPZK6GWQ...|   302| text/html|\n",
      "|http://www.studio...|LERGJEANTH5DBGGXY...|   302| text/html|\n",
      "|http://www.studio...|NHIESZRF44WSY745B...|   302| text/html|\n",
      "|http://www.studio...|G7C4HKYW3OJZXABW7...|   302| text/html|\n",
      "|http://www.studio...|72AJCLJMOOVIV2ZHL...|   301| text/html|\n",
      "|http://www.studio...|N7SC3YGP77MELKOUD...|   301| text/html|\n",
      "|http://www.studio...|IEXE25BHLWP5YP5GB...|   301| text/html|\n",
      "|http://www.studio...|QZFEBUMHIN7L5PPQH...|   302| text/html|\n",
      "|http://www.studio...|3UILOHCY22EIOZ3AC...|   302| text/html|\n",
      "|http://www.studio...|6J5DT2GRKJ5UPZRZ7...|   302| text/html|\n",
      "|http://www.studio...|RKSHATZZYEIPCSAL7...|   302| text/html|\n",
      "|http://www.studio...|CIR54L4QA25MRNP32...|   301| text/html|\n",
      "|http://studio-net...|HVK5ADNJ56S4RGBAO...|   301| text/html|\n",
      "|http://www.studio...|PDAY3GCMFAG5GQUQW...|   301| text/html|\n",
      "|http://www.studio...|WHB3ARXISMV72EYGB...|   301| text/html|\n",
      "|http://www.studio...|HIGTYJOTR3KR63W62...|   301| text/html|\n",
      "|http://www.studio...|32P3THQ76PFISRTFA...|   301| text/html|\n",
      "|http://www.studio...|DZZPEH7QTSH7BXT5J...|   301| text/html|\n",
      "|http://www.studio...|LICCI5N6F3DVVMOUU...|   301| text/html|\n",
      "|http://www.studio...|J6RGI6EEDW7QHVJ6J...|   301| text/html|\n",
      "|http://www.studio...|P7URYLWYDRAXOKY63...|   301| text/html|\n",
      "|http://www.studio...|QSS6IGYQQA3SX3WRK...|   301| text/html|\n",
      "|http://www.studio...|F273ALSW46RLK2HID...|   301| text/html|\n",
      "|http://www.studio...|J4IV4BLNIK5WVXFLR...|   301| text/html|\n",
      "|http://www.studio...|UMW6G5YH633JZCRAG...|   301| text/html|\n",
      "|http://www.studio...|XAFWW35FAHA6FXQCW...|   301| text/html|\n",
      "|http://www.studio...|WIXOAIGEBH2NX4GDJ...|   301| text/html|\n",
      "|http://www.studio...|IMUAATU5SQTCDG2OJ...|   301| text/html|\n",
      "|http://www.studio...|7G5BNAHIF2IYN4755...|   301| text/html|\n",
      "|http://www.studio...|7G3ZC26J6FNIN57RU...|   301| text/html|\n",
      "|http://www.studio...|GPMSERRNDB3FIPYY2...|   301| text/html|\n",
      "|http://www.studio...|4OGG35FFUTA2GGJOG...|   301| text/html|\n",
      "|http://www.studio...|FR3QS3M7OXGUYKKXO...|   301| text/html|\n",
      "|http://www.studio...|N4NMGMZ6OBDJUBGP2...|   301| text/html|\n",
      "|http://www.studio...|47LT36AX2RRLMX5NK...|   301| text/html|\n",
      "|http://www.studio...|ZKFKAT6WIQ7ZZDN6Y...|   301| text/html|\n",
      "|http://www.studio...|HB5EVZJE3HF6MI5G2...|   301| text/html|\n",
      "|http://www.studio...|JDNFX3EYPMPGPZWOT...|   301| text/html|\n",
      "|http://www.studio...|W3FMAFI4ETT2CMKGV...|   301| text/html|\n",
      "|http://www.studio...|RLQCVF2WNS7KE6RK6...|   302| text/html|\n",
      "|http://studio-net...|RLQCVF2WNS7KE6RK6...|   302| text/html|\n",
      "|http://www.studio...|L6LPKJ5Z4JMTHC4JB...|   302| text/html|\n",
      "|http://www.studio...|WH4ALNGPQQYFO26XB...|   302| text/html|\n",
      "|http://www.studio...|KUGHURSLSWD4R6EFL...|   301| text/html|\n",
      "|http://wb.studio-...|A66PM4W4BIJ4RBNM6...|   301| text/html|\n",
      "|http://wb.studio-...|JJ3MKRXUACFZEJXUT...|   301| text/html|\n",
      "|http://www.sukurs...|OBZD6EFG6RWC5PVPO...|   302|text/plain|\n",
      "|http://www.sukurs...|OBZD6EFG6RWC5PVPO...|   302|text/plain|\n",
      "|http://www.sukurs...|OBZD6EFG6RWC5PVPO...|   302|text/plain|\n",
      "|http://www.sukurs...|OBZD6EFG6RWC5PVPO...|   302|text/plain|\n",
      "|http://superexpre...|YRIMBP2MLJRXPRKJY...|   302| text/html|\n",
      "|http://www.supere...|YRIMBP2MLJRXPRKJY...|   302| text/html|\n",
      "|http://www.syrena...|PPJSHRKX2KIDEXMIW...|   302| text/html|\n",
      "|http://www.syrena...|PPJSHRKX2KIDEXMIW...|   302| text/html|\n",
      "|http://www.syrena...|PPJSHRKX2KIDEXMIW...|   302| text/html|\n",
      "|http://www.system...|Z7FBE36IT7D6T5ALC...|   302| text/html|\n",
      "|http://www.system...|Z7FBE36IT7D6T5ALC...|   302| text/html|\n",
      "|http://www.szachy...|5WT3JX4NBK533NMZY...|   302| text/html|\n",
      "|http://www.szczec...|WW7GBDTMQHCT6ROXY...|   302| text/html|\n",
      "|http://www.szkiel...|ZTVEA4LZ4BWW4IQNF...|   302| text/html|\n",
      "|http://www.szkiel...|JPNZQPY62PC5MLZQ4...|   302| text/html|\n",
      "|http://www.szkiel...|MX7G3L4KAYYYS64C7...|   302| text/html|\n",
      "|http://www.szkiel...|C6CZ3B6KG2Z5UPYBF...|   302| text/html|\n",
      "|http://www.szkiel...|24X3AMOHHZAP3CVZA...|   302| text/html|\n",
      "|http://www.szkiel...|WJOE7GKSBEWBIULVF...|   302| text/html|\n",
      "|http://www.szkiel...|VAIJQAVZ4WYSMJJRX...|   302| text/html|\n",
      "|http://www.szkiel...|DHAO4OS4A4QQP3WXN...|   302| text/html|\n",
      "|http://www.szkiel...|K6LAHKMS32KDRVPAX...|   302| text/html|\n",
      "|http://www.tagor....|2T35WXJ3AJQCROW26...|   302| text/html|\n",
      "|http://www.tagor....|2T35WXJ3AJQCROW26...|   302| text/html|\n",
      "|http://www.tch.co...|SLGBBEENKCPJS27HF...|   302| text/html|\n",
      "|http://www.techne...|2NT3SHWGGWVVQC74Y...|   301| text/html|\n",
      "|http://www.telead...|WBVLPYVLN2SQZ6ETB...|   301| text/html|\n",
      "|http://www.telein...|Z4WDOWVOWHINRBENZ...|   302| text/html|\n",
      "|http://www.telein...|Z4WDOWVOWHINRBENZ...|   302| text/html|\n",
      "|http://www.telesy...|OYKNKQMG3L35CQCMH...|   302| text/html|\n",
      "|http://www.teletr...|Y3U7VZWDBBDNQ2SHC...|   301| text/html|\n",
      "|http://www.teletr...|Y3U7VZWDBBDNQ2SHC...|   301| text/html|\n",
      "|http://kkpp.tg.co...|GVDBULVVSD7OSFYSD...|   302| text/html|\n",
      "|http://www.thermo...|XW23TRANQCIIRKYFN...|   302| text/html|\n",
      "|http://www.thermo...|XW23TRANQCIIRKYFN...|   302| text/html|\n",
      "|http://www.thermo...|XW23TRANQCIIRKYFN...|   302| text/html|\n",
      "|http://www.thermo...|XW23TRANQCIIRKYFN...|   302| text/html|\n",
      "|http://www.thermo...|XW23TRANQCIIRKYFN...|   302| text/html|\n",
      "|http://www.thermo...|XW23TRANQCIIRKYFN...|   302| text/html|\n",
      "|http://www.thermo...|XW23TRANQCIIRKYFN...|   302| text/html|\n",
      "|http://www.thermo...|XW23TRANQCIIRKYFN...|   302| text/html|\n",
      "|http://www.thermo...|XW23TRANQCIIRKYFN...|   302| text/html|\n",
      "|http://www.thermo...|XW23TRANQCIIRKYFN...|   302| text/html|\n",
      "|http://www.tk.com...|TDG32EQSWERBGKGK4...|   301| text/html|\n",
      "|http://www.tk.com...|WTC52X46DO24BK4GT...|   301| text/html|\n",
      "|http://www.tk.com...|RZAAFCCUJ2Q2ICKEW...|   301| text/html|\n",
      "|http://www.tk.com...|LZ2X3J3OTQCBXV5LX...|   301| text/html|\n",
      "|http://www.tmm.co...|PPJSHRKX2KIDEXMIW...|   302| text/html|\n",
      "|http://www.topsys...|GS236VMKITI2CAO7G...|   301| text/html|\n",
      "|http://www.topsys...|GYJGFKR7GCIRE2O3R...|   301| text/html|\n",
      "|http://www.topsys...|A4RNHZ7RFMVYAKE3X...|   301| text/html|\n",
      "|http://www.tornad...|FL6WGTYDK7TOYRERQ...|   302| text/html|\n",
      "|http://www.tornad...|FL6WGTYDK7TOYRERQ...|   302| text/html|\n",
      "|http://www.tornad...|FL6WGTYDK7TOYRERQ...|   302| text/html|\n",
      "|http://www.tornad...|FL6WGTYDK7TOYRERQ...|   302| text/html|\n",
      "|http://www.tornad...|FL6WGTYDK7TOYRERQ...|   302| text/html|\n",
      "|http://www.tornad...|FL6WGTYDK7TOYRERQ...|   302| text/html|\n",
      "|http://www.tornad...|FL6WGTYDK7TOYRERQ...|   302| text/html|\n",
      "|http://www.tornad...|FL6WGTYDK7TOYRERQ...|   302| text/html|\n",
      "|http://www.tornad...|FL6WGTYDK7TOYRERQ...|   302| text/html|\n",
      "|http://www.tornad...|FL6WGTYDK7TOYRERQ...|   302| text/html|\n",
      "|http://www.trapez...|PPJSHRKX2KIDEXMIW...|   302| text/html|\n",
      "|http://www.triviu...|FOI6MWG44TLRKWFMY...|   301| text/html|\n",
      "|http://www.tron.c...|FKQSE2RLS2XGHAP4K...|   301| text/html|\n",
      "|http://www.tropic...|2T35WXJ3AJQCROW26...|   302| text/html|\n",
      "|http://www.tvsat....|PPJSHRKX2KIDEXMIW...|   302| text/html|\n",
      "|http://www.twelve...|PPJSHRKX2KIDEXMIW...|   302| text/html|\n",
      "|http://www.twelve...|PPJSHRKX2KIDEXMIW...|   302| text/html|\n",
      "|http://www.twelve...|PPJSHRKX2KIDEXMIW...|   302| text/html|\n",
      "|http://www.twelve...|PPJSHRKX2KIDEXMIW...|   302| text/html|\n",
      "|http://www.twelve...|PPJSHRKX2KIDEXMIW...|   302| text/html|\n",
      "|http://www.twelve...|PPJSHRKX2KIDEXMIW...|   302| text/html|\n",
      "|http://www.twelve...|PPJSHRKX2KIDEXMIW...|   302| text/html|\n",
      "|http://www.twelve...|PPJSHRKX2KIDEXMIW...|   302| text/html|\n",
      "|http://www.twelve...|PPJSHRKX2KIDEXMIW...|   302| text/html|\n",
      "|http://www.twelve...|PPJSHRKX2KIDEXMIW...|   302| text/html|\n",
      "|http://www.twelve...|PPJSHRKX2KIDEXMIW...|   302| text/html|\n",
      "|http://www.twelve...|PPJSHRKX2KIDEXMIW...|   302| text/html|\n",
      "|http://www.twelve...|PPJSHRKX2KIDEXMIW...|   302| text/html|\n",
      "|http://www.twins....|VXEDWGPHSNERWHDOU...|   301| text/html|\n",
      "|http://www.twins....|VXEDWGPHSNERWHDOU...|   301| text/html|\n",
      "|http://www.twins....|VXEDWGPHSNERWHDOU...|   301| text/html|\n",
      "|http://twojstyl.c...|A6GXGWFJGGAIFHM6A...|   301| text/html|\n",
      "|http://twojstyl.c...|5UJC5R4WWHCA3RJKM...|   302| text/html|\n",
      "|http://twojstyl.c...|BGHHVNM54Q44DIYXP...|   301| text/html|\n",
      "|http://twojstyl.c...|ZWSMYEKAVX7SEVXXU...|   301| text/html|\n",
      "|http://twojstyl.c...|UDGUZ6CTXBGAIRWAM...|   301| text/html|\n",
      "|http://twojstyl.c...|MBQPUI4LP5KYOQMKW...|   302| text/html|\n",
      "|http://twojstyl.c...|IGCUCPAPLLMEIMZ3H...|   301| text/html|\n",
      "+--------------------+--------------------+------+----------+\n",
      "only showing top 150 rows\n",
      "\n"
     ]
    }
   ],
   "source": [
    "// test pls\n",
    "df.where(\"status != '200'\").show(150)"
   ]
  },
  {
   "cell_type": "code",
   "execution_count": 16,
   "metadata": {},
   "outputs": [
    {
     "name": "stdout",
     "output_type": "stream",
     "text": [
      "+--------------------+\n",
      "|count(DISTINCT mime)|\n",
      "+--------------------+\n",
      "|                 102|\n",
      "+--------------------+\n",
      "\n"
     ]
    }
   ],
   "source": [
    "// tab basic2.2\n",
    "// count distinct mime http 200\n",
    "df.where(\"status == '200'\").agg(countDistinct(\"mime\")).show()"
   ]
  },
  {
   "cell_type": "code",
   "execution_count": 17,
   "metadata": {},
   "outputs": [
    {
     "name": "stdout",
     "output_type": "stream",
     "text": [
      "+--------------------+-------+\n",
      "|                mime|  count|\n",
      "+--------------------+-------+\n",
      "|           text/html|1534252|\n",
      "|           image/gif| 364786|\n",
      "|          image/jpeg| 205568|\n",
      "|          text/plain|  49442|\n",
      "|             text/pl|  20120|\n",
      "|     application/zip|   8688|\n",
      "|                  im|   5944|\n",
      "|                 unk|   4006|\n",
      "|application/octet...|   3666|\n",
      "|application/posts...|   2970|\n",
      "|  application/x-gzip|   2636|\n",
      "|     application/pdf|   2592|\n",
      "|   application/x-tar|   2194|\n",
      "|         audio/x-wav|   1394|\n",
      "|audio/x-pn-realaudio|   1048|\n",
      "|   application/x-dvi|    956|\n",
      "|  application/msword|    800|\n",
      "|     image/x-xbitmap|    790|\n",
      "|          audio/midi|    714|\n",
      "|         audio/mpeg3|    438|\n",
      "|   application/x-tex|    256|\n",
      "|     image/x-xpixmap|    212|\n",
      "|     video/quicktime|    212|\n",
      "|         audio/basic|    184|\n",
      "|            text/css|    162|\n",
      "|   application/x-tcl|    158|\n",
      "|     audio/x-mpegurl|    152|\n",
      "|         audio/x-mp3|    152|\n",
      "|        audio/x-midi|    132|\n",
      "|   audio/x-realaudio|    128|\n",
      "|application/x-com...|    128|\n",
      "| application/x-troff|    126|\n",
      "|        audio/x-mpeg|    124|\n",
      "|          audio/mpeg|    108|\n",
      "|     application/arj|    102|\n",
      "| application/x-excel|    100|\n",
      "|          image/tiff|     82|\n",
      "|     video/x-msvideo|     80|\n",
      "|     multipart/x-zip|     72|\n",
      "|     application/rtf|     66|\n",
      "|application/x-tex...|     58|\n",
      "|application/mac-b...|     56|\n",
      "|     application/ppt|     54|\n",
      "|             unknown|     52|\n",
      "|        audio/x-aiff|     46|\n",
      "|application/x-gunzip|     46|\n",
      "|          video/mpeg|     44|\n",
      "|      x-world/x-vrml|     42|\n",
      "|           image/png|     40|\n",
      "|audio/x-pn-realau...|     36|\n",
      "|  application/x-shar|     36|\n",
      "|            vms/help|     34|\n",
      "|             vms/exe|     34|\n",
      "|           image/bmp|     32|\n",
      "|application/x-jav...|     30|\n",
      "|          test/plain|     28|\n",
      "|application/x-aut...|     22|\n",
      "|application/x-netcdf|     20|\n",
      "|application/x-mse...|     20|\n",
      "|   application/excel|     20|\n",
      "|    application/x-sh|     18|\n",
      "|application/x-wai...|     18|\n",
      "|           icons/gif|     16|\n",
      "|application/x-stu...|     16|\n",
      "|         audio/x-pac|     16|\n",
      "|  application/x-xdma|     16|\n",
      "|application/power...|     14|\n",
      "|                   x|     10|\n",
      "|application/x-tro...|     10|\n",
      "|application/x-x50...|     10|\n",
      "|              text/x|      8|\n",
      "|text/x-server-par...|      8|\n",
      "|application/x-fra...|      8|\n",
      "|application/x-msd...|      6|\n",
      "|multipart/x-mixed...|      6|\n",
      "|application/octet...|      6|\n",
      "|           audio/mp3|      6|\n",
      "|application/x-ns-...|      4|\n",
      "|application/x-aut...|      4|\n",
      "|         image/x-xbm|      4|\n",
      "|application/x-tro...|      4|\n",
      "|  application/x-midi|      4|\n",
      "|     application/tar|      4|\n",
      "|application/x-htt...|      4|\n",
      "|     application/rar|      2|\n",
      "|         text/x-sgml|      2|\n",
      "|application/x-poi...|      2|\n",
      "|application/vnd.m...|      2|\n",
      "|          audio/x-ra|      2|\n",
      "|         image/x-rgb|      2|\n",
      "|application/x-msword|      2|\n",
      "|application/x-msa...|      2|\n",
      "|  application/x-perl|      2|\n",
      "|text/x-server-parsed|      2|\n",
      "|         video/mpeg3|      2|\n",
      "|       text/x-setext|      2|\n",
      "|application/x-msw...|      2|\n",
      "|application/x-aut...|      2|\n",
      "|application/x-dir...|      2|\n",
      "| application/java-vm|      2|\n",
      "|application/x-wor...|      2|\n",
      "|application/x-ms-...|      2|\n",
      "+--------------------+-------+\n",
      "\n"
     ]
    }
   ],
   "source": [
    "// count all mimes counts\n",
    "df.where(\"status == '200'\").groupBy(\"mime\").count().orderBy(desc(\"count\")).cache().show(120)"
   ]
  },
  {
   "cell_type": "code",
   "execution_count": 5,
   "metadata": {},
   "outputs": [],
   "source": [
    "// for tests - liczba wersji na origina;Url\n",
    "import org.apache.spark.sql.functions.count\n",
    "import org.apache.spark.sql.functions._\n",
    "\n",
    "val vBu = df.groupBy(\"originalUrl\").agg(countDistinct(\"digest\") as \"distDigests\").cache()\n"
   ]
  },
  {
   "cell_type": "code",
   "execution_count": 6,
   "metadata": {},
   "outputs": [
    {
     "name": "stdout",
     "output_type": "stream",
     "text": [
      "+------------------+\n",
      "|        avgDigests|\n",
      "+------------------+\n",
      "|1.0536360449568554|\n",
      "+------------------+\n",
      "\n"
     ]
    }
   ],
   "source": [
    "// avg\n",
    "vBu.agg(avg(\"distDigests\") as \"avgDigests\").show()\n"
   ]
  },
  {
   "cell_type": "code",
   "execution_count": 7,
   "metadata": {},
   "outputs": [
    {
     "name": "stdout",
     "output_type": "stream",
     "text": [
      "+----------+\n",
      "|medDigests|\n",
      "+----------+\n",
      "|       1.0|\n",
      "+----------+\n",
      "\n"
     ]
    }
   ],
   "source": [
    "vBu.agg(expr(\"percentile(distDigests, 0.5)\").as(\"medDigests\")).cache().show()\n"
   ]
  },
  {
   "cell_type": "code",
   "execution_count": null,
   "metadata": {},
   "outputs": [],
   "source": []
  }
 ],
 "metadata": {
  "kernelspec": {
   "display_name": "ArchiveSpark",
   "language": "",
   "name": "archivespark"
  },
  "language_info": {
   "name": "scala",
   "version": "2.11.8"
  }
 },
 "nbformat": 4,
 "nbformat_minor": 2
}
