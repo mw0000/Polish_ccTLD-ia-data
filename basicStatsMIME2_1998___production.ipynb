{
 "cells": [
  {
   "cell_type": "code",
   "execution_count": 3,
   "metadata": {},
   "outputs": [],
   "source": [
    "// 1. Installation\n",
    "\n",
    "//install libraries\n",
    "import org.archive.archivespark._\n",
    "import org.archive.archivespark.functions._\n",
    "import org.archive.archivespark.specific.warc._\n",
    "\n",
    "// data files - generic path from docker run -v\n",
    "val cdxPath = \"/data/arc_cdx/*.cdx\"\n",
    "val warcPath = \"/data/warc\"\n",
    "\n",
    "import org.apache.spark.sql.{Row, SparkSession}\n",
    "\n",
    "val session = spark.newSession\n",
    "\n",
    "// collect all records\n",
    "\n",
    "val r = ArchiveSpark.load(WarcSpec.fromFiles(cdxPath, warcPath))"
   ]
  },
  {
   "cell_type": "code",
   "execution_count": 4,
   "metadata": {},
   "outputs": [],
   "source": [
    "val researchYear = \"1998\""
   ]
  },
  {
   "cell_type": "code",
   "execution_count": 5,
   "metadata": {},
   "outputs": [],
   "source": [
    "// 2. Count ALL objects from research Year\n",
    "// 2.1 get data for text/html & HTTP 200 for each Year\n",
    "val t1 = r.filter(r => r.timestamp.startsWith(researchYear))\n"
   ]
  },
  {
   "cell_type": "code",
   "execution_count": 6,
   "metadata": {},
   "outputs": [],
   "source": [
    "// 3. generate basic data frame\n",
    "\n",
    "val m = t1.map(f=> (f.originalUrl,f.digest,f.status,f.mime))\n",
    "val df = session.createDataFrame(m).toDF(\"originalUrl\",\"digest\",\"status\",\"mime\").cache()"
   ]
  },
  {
   "cell_type": "code",
   "execution_count": 7,
   "metadata": {},
   "outputs": [],
   "source": [
    "import org.apache.spark.sql.functions.count\n",
    "import org.apache.spark.sql.functions._\n"
   ]
  },
  {
   "cell_type": "code",
   "execution_count": 8,
   "metadata": {},
   "outputs": [
    {
     "name": "stdout",
     "output_type": "stream",
     "text": [
      "+---------------------------+\n",
      "|count(DISTINCT originalUrl)|\n",
      "+---------------------------+\n",
      "|                     578938|\n",
      "+---------------------------+\n",
      "\n"
     ]
    }
   ],
   "source": [
    "df.filter(df(\"mime\") === \"text/html\").select(countDistinct(\"originalUrl\")).show()"
   ]
  },
  {
   "cell_type": "code",
   "execution_count": 9,
   "metadata": {},
   "outputs": [
    {
     "name": "stdout",
     "output_type": "stream",
     "text": [
      "\r",
      "                                                                                \r",
      "+---------------------------+\n",
      "|count(DISTINCT originalUrl)|\n",
      "+---------------------------+\n",
      "|                     875773|\n",
      "+---------------------------+\n",
      "\n"
     ]
    }
   ],
   "source": [
    "df.select(countDistinct(\"originalUrl\")).show()"
   ]
  },
  {
   "cell_type": "code",
   "execution_count": 11,
   "metadata": {},
   "outputs": [
    {
     "name": "stdout",
     "output_type": "stream",
     "text": [
      "\r",
      "                                                                                \r",
      "+---------------------------------+------+\n",
      "|mime                             |URLs  |\n",
      "+---------------------------------+------+\n",
      "|text/html                        |578938|\n",
      "|image/gif                        |157703|\n",
      "|image/jpeg                       |87418 |\n",
      "|text/plain                       |23104 |\n",
      "|text/pl                          |10065 |\n",
      "|application/zip                  |4135  |\n",
      "|im                               |2972  |\n",
      "|unk                              |2003  |\n",
      "|application/octet-stream         |1532  |\n",
      "|application/x-gzip               |1294  |\n",
      "|application/postscript           |1294  |\n",
      "|application/pdf                  |969   |\n",
      "|application/x-tar                |859   |\n",
      "|audio/x-wav                      |592   |\n",
      "|audio/x-pn-realaudio             |434   |\n",
      "|application/x-dvi                |379   |\n",
      "|application/msword               |366   |\n",
      "|image/x-xbitmap                  |345   |\n",
      "|audio/midi                       |341   |\n",
      "|audio/mpeg3                      |219   |\n",
      "|application/x-tex                |122   |\n",
      "|image/x-xpixmap                  |106   |\n",
      "|video/quicktime                  |87    |\n",
      "|audio/basic                      |79    |\n",
      "|application/x-tcl                |79    |\n",
      "|audio/x-mpegurl                  |76    |\n",
      "|audio/x-mp3                      |76    |\n",
      "|audio/x-realaudio                |64    |\n",
      "|application/x-compress           |64    |\n",
      "|application/x-troff              |63    |\n",
      "|text/css                         |62    |\n",
      "|audio/x-mpeg                     |62    |\n",
      "|audio/x-midi                     |62    |\n",
      "|audio/mpeg                       |54    |\n",
      "|application/arj                  |39    |\n",
      "|video/x-msvideo                  |37    |\n",
      "|image/tiff                       |34    |\n",
      "|multipart/x-zip                  |33    |\n",
      "|application/rtf                  |32    |\n",
      "|application/x-texinfo            |29    |\n",
      "|application/ppt                  |27    |\n",
      "|application/x-excel              |27    |\n",
      "|application/mac-binhex40         |25    |\n",
      "|application/x-gunzip             |23    |\n",
      "|unknown                          |21    |\n",
      "|x-world/x-vrml                   |20    |\n",
      "|image/png                        |20    |\n",
      "|audio/x-aiff                     |19    |\n",
      "|video/mpeg                       |17    |\n",
      "|vms/help                         |17    |\n",
      "|application/x-javascript         |15    |\n",
      "|audio/x-pn-realaudio-plugin      |15    |\n",
      "|vms/exe                          |14    |\n",
      "|application/x-shar               |14    |\n",
      "|application/x-authorware-seg     |11    |\n",
      "|image/bmp                        |11    |\n",
      "|application/excel                |10    |\n",
      "|application/x-netcdf             |10    |\n",
      "|application/x-msexcel            |10    |\n",
      "|test/plain                       |9     |\n",
      "|application/x-stuffit            |8     |\n",
      "|audio/x-pac                      |8     |\n",
      "|icons/gif                        |8     |\n",
      "|application/x-sh                 |8     |\n",
      "|application/x-xdma               |8     |\n",
      "|application/x-wais-source        |7     |\n",
      "|application/powerpoint           |7     |\n",
      "|x                                |5     |\n",
      "|application/x-troff-man          |5     |\n",
      "|text/x-server-parsed-html        |4     |\n",
      "|application/x-framemaker         |4     |\n",
      "|application/x-x509-ca-cert       |4     |\n",
      "|application/x-msdos-program      |3     |\n",
      "|text/x                           |3     |\n",
      "|audio/mp3                        |3     |\n",
      "|application/x-automail           |2     |\n",
      "|application/x-troff-ms           |2     |\n",
      "|application/octet-string         |2     |\n",
      "|application/tar                  |2     |\n",
      "|application/x-ns-proxy-autoconfig|2     |\n",
      "|multipart/x-mixed-replace        |2     |\n",
      "|image/x-xbm                      |2     |\n",
      "|application/x-httpd-cgi          |2     |\n",
      "|text/x-sgml                      |1     |\n",
      "|application/x-msword             |1     |\n",
      "|application/rar                  |1     |\n",
      "|application/x-pointplus          |1     |\n",
      "|application/x-midi               |1     |\n",
      "|audio/x-ra                       |1     |\n",
      "|image/x-rgb                      |1     |\n",
      "|application/vnd.ms-powerpoint    |1     |\n",
      "|text/x-setext                    |1     |\n",
      "|video/mpeg3                      |1     |\n",
      "|text/x-server-parsed             |1     |\n",
      "|application/x-msaccess           |1     |\n",
      "|application/x-perl               |1     |\n",
      "|application/java-vm              |1     |\n",
      "|application/x-mswrite            |1     |\n",
      "|application/x-worldgroup         |1     |\n",
      "|application/x-ms-word            |1     |\n",
      "|application/x-authorware-map     |1     |\n",
      "|application/x-director           |1     |\n",
      "+---------------------------------+------+\n",
      "\n"
     ]
    }
   ],
   "source": [
    "df.groupBy(\"mime\").agg(countDistinct(\"originalUrl\") as \"URLs\").orderBy(desc(\"URLs\")).show(300,false)"
   ]
  },
  {
   "cell_type": "code",
   "execution_count": 12,
   "metadata": {},
   "outputs": [
    {
     "data": {
      "text/plain": [
       "102"
      ]
     },
     "execution_count": 12,
     "metadata": {},
     "output_type": "execute_result"
    }
   ],
   "source": [
    "df.groupBy(\"mime\").agg(countDistinct(\"originalUrl\") as \"URLs\").count()"
   ]
  },
  {
   "cell_type": "code",
   "execution_count": null,
   "metadata": {},
   "outputs": [],
   "source": []
  }
 ],
 "metadata": {
  "kernelspec": {
   "display_name": "ArchiveSpark",
   "language": "",
   "name": "archivespark"
  },
  "language_info": {
   "name": "scala",
   "version": "2.11.8"
  }
 },
 "nbformat": 4,
 "nbformat_minor": 2
}
