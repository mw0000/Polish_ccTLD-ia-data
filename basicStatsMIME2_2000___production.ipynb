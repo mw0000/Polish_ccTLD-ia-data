{
 "cells": [
  {
   "cell_type": "code",
   "execution_count": 1,
   "metadata": {},
   "outputs": [],
   "source": [
    "// 1. Installation\n",
    "\n",
    "//install libraries\n",
    "import org.archive.archivespark._\n",
    "import org.archive.archivespark.functions._\n",
    "import org.archive.archivespark.specific.warc._\n",
    "\n",
    "// data files - generic path from docker run -v\n",
    "val cdxPath = \"/data/arc_cdx/*.cdx\"\n",
    "val warcPath = \"/data/warc\"\n",
    "\n",
    "import org.apache.spark.sql.{Row, SparkSession}\n",
    "\n",
    "val session = spark.newSession\n",
    "\n",
    "// collect all records\n",
    "\n",
    "val r = ArchiveSpark.load(WarcSpec.fromFiles(cdxPath, warcPath))"
   ]
  },
  {
   "cell_type": "code",
   "execution_count": 2,
   "metadata": {},
   "outputs": [],
   "source": [
    "val researchYear = \"2000\""
   ]
  },
  {
   "cell_type": "code",
   "execution_count": 3,
   "metadata": {},
   "outputs": [],
   "source": [
    "// 2. Count ALL objects from research Year\n",
    "// 2.1 get data for text/html & HTTP 200 for each Year\n",
    "val t1 = r.filter(r => r.timestamp.startsWith(researchYear))\n"
   ]
  },
  {
   "cell_type": "code",
   "execution_count": 4,
   "metadata": {},
   "outputs": [],
   "source": [
    "// 3. generate basic data frame\n",
    "\n",
    "val m = t1.map(f=> (f.originalUrl,f.digest,f.status,f.mime))\n",
    "val df = session.createDataFrame(m).toDF(\"originalUrl\",\"digest\",\"status\",\"mime\").cache()"
   ]
  },
  {
   "cell_type": "code",
   "execution_count": 5,
   "metadata": {},
   "outputs": [],
   "source": [
    "import org.apache.spark.sql.functions.count\n",
    "import org.apache.spark.sql.functions._\n"
   ]
  },
  {
   "cell_type": "code",
   "execution_count": 6,
   "metadata": {},
   "outputs": [
    {
     "name": "stdout",
     "output_type": "stream",
     "text": [
      "+---------------------------+\n",
      "|count(DISTINCT originalUrl)|\n",
      "+---------------------------+\n",
      "|                    2819034|\n",
      "+---------------------------+\n",
      "\n"
     ]
    }
   ],
   "source": [
    "df.filter(df(\"mime\") === \"text/html\").select(countDistinct(\"originalUrl\")).show()"
   ]
  },
  {
   "cell_type": "code",
   "execution_count": 7,
   "metadata": {},
   "outputs": [
    {
     "name": "stdout",
     "output_type": "stream",
     "text": [
      "\r",
      "                                                                                \r",
      "+---------------------------+\n",
      "|count(DISTINCT originalUrl)|\n",
      "+---------------------------+\n",
      "|                    3565614|\n",
      "+---------------------------+\n",
      "\n"
     ]
    }
   ],
   "source": [
    "df.select(countDistinct(\"originalUrl\")).show()"
   ]
  },
  {
   "cell_type": "code",
   "execution_count": 8,
   "metadata": {},
   "outputs": [
    {
     "name": "stdout",
     "output_type": "stream",
     "text": [
      "+-----------------------------+-------+\n",
      "|mime                         |URLs   |\n",
      "+-----------------------------+-------+\n",
      "|text/html                    |2819034|\n",
      "|im                           |433672 |\n",
      "|alexa/dat                    |162034 |\n",
      "|image/gif                    |86455  |\n",
      "|image/jpeg                   |77716  |\n",
      "|unknown                      |44559  |\n",
      "|text/pl                      |34792  |\n",
      "|text/plain                   |27483  |\n",
      "|unk                          |27214  |\n",
      "|application/zip              |1030   |\n",
      "|audio/x-pn-realaudio         |698    |\n",
      "|text/css                     |660    |\n",
      "|application/postscript       |605    |\n",
      "|application/octet-stream     |524    |\n",
      "|application/x-javascript     |467    |\n",
      "|application/pdf              |367    |\n",
      "|image/png                    |345    |\n",
      "|application/x-zip-compressed |337    |\n",
      "|audio/midi                   |322    |\n",
      "|audio/mpeg                   |283    |\n",
      "|application/msword           |150    |\n",
      "|audio/basic                  |145    |\n",
      "|text/x                       |111    |\n",
      "|text/rtf                     |78     |\n",
      "|audio/x-wav                  |77     |\n",
      "|video/quicktime              |72     |\n",
      "|video/mpeg                   |72     |\n",
      "|application/x-tar            |68     |\n",
      "|application/x-shockwave-flash|52     |\n",
      "|audio/mid                    |50     |\n",
      "|audio/x-mpeg                 |40     |\n",
      "|application/rtf              |36     |\n",
      "|image/x-xbitmap              |36     |\n",
      "|video/x                      |33     |\n",
      "|multip                       |31     |\n",
      "|application/x-gunzip         |26     |\n",
      "|video/x-msvideo              |24     |\n",
      "|x                            |21     |\n",
      "|application/x-gzip           |19     |\n",
      "|audio/x-midi                 |18     |\n",
      "|mess                         |17     |\n",
      "|image/bmp                    |16     |\n",
      "|text/x-setext                |16     |\n",
      "|video/x-ms-asf               |15     |\n",
      "|application/x-pointplus      |15     |\n",
      "|audio/x-pn-realaudio-plugin  |15     |\n",
      "|image/tiff                   |15     |\n",
      "|httpd/unix                   |14     |\n",
      "|appl/text                    |13     |\n",
      "|text/vnd                     |12     |\n",
      "|text/xml                     |12     |\n",
      "|www/unknown                  |12     |\n",
      "|m                            |10     |\n",
      "|application/x-stuffit        |10     |\n",
      "|audio/x-realaudio            |9      |\n",
      "|audio/wav                    |9      |\n",
      "|cgi                          |8      |\n",
      "|application/x-compressed     |8      |\n",
      "|text/                        |8      |\n",
      "|application/mac-binhex40     |8      |\n",
      "|text/x-vcard                 |7      |\n",
      "|multipart/x-zip              |6      |\n",
      "|text/x-java                  |5      |\n",
      "|application/vnd.ms-powerpoint|5      |\n",
      "|model/vrml                   |5      |\n",
      "|text/c-source                |5      |\n",
      "|application/x-msdos-program  |4      |\n",
      "|audio/x-aiff                 |4      |\n",
      "|text/c                       |4      |\n",
      "|application/x-tex            |4      |\n",
      "|text/sgml                    |4      |\n",
      "|application/x-compress       |4      |\n",
      "|text/vnd.wap.wml             |4      |\n",
      "|x-world/x-vrml               |3      |\n",
      "|application/vnd.ms-excel     |3      |\n",
      "|httpd/send                   |3      |\n",
      "|dr                           |3      |\n",
      "|applicatpliczip              |3      |\n",
      "|application/x-httpd-php      |3      |\n",
      "|application/x-sh             |3      |\n",
      "|application/x-msmetafile     |3      |\n",
      "|application/x-gtar           |3      |\n",
      "|application/smil             |3      |\n",
      "|image/pjpeg                  |3      |\n",
      "|application/x-netcdf         |2      |\n",
      "|application/x-troff          |2      |\n",
      "|application/x-httpd-php3     |2      |\n",
      "|drawing/x-dwf                |2      |\n",
      "|text/x-csrc                  |2      |\n",
      "|image/ico.                   |2      |\n",
      "|image/                       |2      |\n",
      "|image/x-icon                 |2      |\n",
      "|application/x-cdf            |2      |\n",
      "|application/x-dvi            |1      |\n",
      "|text/x-tex                   |1      |\n",
      "|text/x-sgml                  |1      |\n",
      "|bin                          |1      |\n",
      "|image/x-png                  |1      |\n",
      "|text/rdf                     |1      |\n",
      "|text/x-imagemap              |1      |\n",
      "|application/x-tgz            |1      |\n",
      "|application/x-excel          |1      |\n",
      "|video/unknown                |1      |\n",
      "|application/x-rpm            |1      |\n",
      "|text/x-sh                    |1      |\n",
      "|text/x-chdr                  |1      |\n",
      "|application/x-pn-realmedia   |1      |\n",
      "|text                         |1      |\n",
      "|application/gzip             |1      |\n",
      "+-----------------------------+-------+\n",
      "\n"
     ]
    }
   ],
   "source": [
    "df.groupBy(\"mime\").agg(countDistinct(\"originalUrl\") as \"URLs\").orderBy(desc(\"URLs\")).show(300,false)"
   ]
  },
  {
   "cell_type": "code",
   "execution_count": 10,
   "metadata": {},
   "outputs": [
    {
     "data": {
      "text/plain": [
       "109"
      ]
     },
     "execution_count": 10,
     "metadata": {},
     "output_type": "execute_result"
    }
   ],
   "source": [
    "df.groupBy(\"mime\").agg(countDistinct(\"originalUrl\") as \"URLs\").count()"
   ]
  },
  {
   "cell_type": "code",
   "execution_count": null,
   "metadata": {},
   "outputs": [],
   "source": []
  }
 ],
 "metadata": {
  "kernelspec": {
   "display_name": "ArchiveSpark",
   "language": "",
   "name": "archivespark"
  },
  "language_info": {
   "name": "scala",
   "version": "2.11.8"
  }
 },
 "nbformat": 4,
 "nbformat_minor": 2
}
