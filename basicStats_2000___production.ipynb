{
 "cells": [
  {
   "cell_type": "code",
   "execution_count": 1,
   "metadata": {},
   "outputs": [],
   "source": [
    "// 1. Installation\n",
    "\n",
    "//install libraries\n",
    "import org.archive.archivespark._\n",
    "import org.archive.archivespark.functions._\n",
    "import org.archive.archivespark.specific.warc._\n",
    "\n",
    "// data files - generic path from docker run -v\n",
    "val cdxPath = \"/data/arc_cdx/*.cdx\"\n",
    "val warcPath = \"/data/warc\"\n",
    "\n",
    "import org.apache.spark.sql.{Row, SparkSession}\n",
    "\n",
    "val session = spark.newSession\n",
    "\n",
    "// collect all records\n",
    "\n",
    "val r = ArchiveSpark.load(WarcSpec.fromFiles(cdxPath, warcPath))"
   ]
  },
  {
   "cell_type": "code",
   "execution_count": 2,
   "metadata": {},
   "outputs": [],
   "source": [
    "val researchYear = \"2000\""
   ]
  },
  {
   "cell_type": "code",
   "execution_count": 3,
   "metadata": {},
   "outputs": [],
   "source": [
    "// 2. Count ALL objects from research Year\n",
    "// 2.1 get data for text/html & HTTP 200 for each Year\n",
    "val t1 = r.filter(r => r.timestamp.startsWith(researchYear))\n"
   ]
  },
  {
   "cell_type": "code",
   "execution_count": 4,
   "metadata": {},
   "outputs": [
    {
     "data": {
      "text/plain": [
       "15300386"
      ]
     },
     "execution_count": 4,
     "metadata": {},
     "output_type": "execute_result"
    }
   ],
   "source": [
    "// 2.2 count all captures\n",
    "t1.count()"
   ]
  },
  {
   "cell_type": "code",
   "execution_count": 5,
   "metadata": {},
   "outputs": [],
   "source": [
    "// 3. generate basic data frame\n",
    "\n",
    "val m = t1.map(f=> (f.originalUrl,f.digest,f.status,f.mime))\n",
    "val df = session.createDataFrame(m).toDF(\"originalUrl\",\"digest\",\"status\",\"mime\").cache()"
   ]
  },
  {
   "cell_type": "code",
   "execution_count": 8,
   "metadata": {},
   "outputs": [
    {
     "name": "stdout",
     "output_type": "stream",
     "text": [
      "+--------------------+--------------------+------+---------+\n",
      "|         originalUrl|              digest|status|     mime|\n",
      "+--------------------+--------------------+------+---------+\n",
      "|http://www.stopkl...|A7INTAJ2IYZI2YCV7...|   200|       im|\n",
      "|http://www.stopkl...|A7INTAJ2IYZI2YCV7...|   200|       im|\n",
      "|http://www.stopkl...|INNKIN2JHJ3YYQPJP...|   200|       im|\n",
      "|http://www.stopkl...|HYB3QW4IX2T7IHVMI...|   200|       im|\n",
      "|http://www.stopkl...|HYB3QW4IX2T7IHVMI...|   200|       im|\n",
      "|http://www.stopkl...|HQOFHLUGKK5EQNGTV...|   200|       im|\n",
      "|http://www.stopkl...|HQOFHLUGKK5EQNGTV...|   200|       im|\n",
      "|http://www.stopkl...|Q7QEUAUIS4OU3TKLF...|   200|       im|\n",
      "|http://www.stopkl...|Q7QEUAUIS4OU3TKLF...|   200|       im|\n",
      "|http://www.stopkl...|VN3W2CGZUFPX3UJI3...|   200|       im|\n",
      "|http://www.stopkl...|VN3W2CGZUFPX3UJI3...|   200|       im|\n",
      "|http://www.stopkl...|G4FTDNNZNJO6GUH7R...|   301|text/html|\n",
      "|http://www.stopkl...|7PNSIOSDKXETXXE5G...|   200|       im|\n",
      "|http://www.stopkl...|IFH2DOP3EQEBJX4GU...|   200|       im|\n",
      "|http://www.stopkl...|ZGG4TEGEA3H753HWS...|   200|       im|\n",
      "|http://www.stopkl...|5VUKB7Z6GOILJARHX...|   301|text/html|\n",
      "|http://www.stopkl...|BZXMDNAG4Q4SVMBPD...|   200|       im|\n",
      "|http://www.stopkl...|CNGC242O3FDQDCGXM...|   200|       im|\n",
      "|http://www.stopkl...|G64NMKD77R4XR2PXA...|   200|       im|\n",
      "|http://www.stopkl...|6UQXYM3QCNG6TWT5C...|   200|       im|\n",
      "+--------------------+--------------------+------+---------+\n",
      "only showing top 20 rows\n",
      "\n"
     ]
    }
   ],
   "source": [
    "df.show()"
   ]
  },
  {
   "cell_type": "code",
   "execution_count": 9,
   "metadata": {},
   "outputs": [],
   "source": [
    "// 4. Count distinct originalUrls\n",
    "val dOu = df.select(df(\"originalUrl\")).distinct.count()"
   ]
  },
  {
   "cell_type": "code",
   "execution_count": 10,
   "metadata": {},
   "outputs": [
    {
     "data": {
      "text/plain": [
       "3565614"
      ]
     },
     "execution_count": 10,
     "metadata": {},
     "output_type": "execute_result"
    }
   ],
   "source": [
    "dOu"
   ]
  },
  {
   "cell_type": "code",
   "execution_count": 11,
   "metadata": {},
   "outputs": [],
   "source": [
    "// 5. srednia i mediana liczby wersji na pojedynczy URL\n",
    "import org.apache.spark.sql.functions.count\n",
    "import org.apache.spark.sql.functions._\n",
    "\n",
    "val mDu = df.groupBy(\"originalUrl\").agg(count(\"digest\") as \"digests\").orderBy(desc(\"digests\")).cache()"
   ]
  },
  {
   "cell_type": "code",
   "execution_count": 10,
   "metadata": {},
   "outputs": [
    {
     "name": "stdout",
     "output_type": "stream",
     "text": [
      "\r",
      "                                                                                \r",
      "+----------------------------------------------------------------------+-------+\n",
      "|originalUrl                                                           |digests|\n",
      "+----------------------------------------------------------------------+-------+\n",
      "|http://www.astro.amu.edu.pl:80/Library/TeX/latex2e.html               |348    |\n",
      "|http://rabarbar.se.com.pl:80/netware/02workst.html                    |336    |\n",
      "|http://tichy.ch.uj.edu.pl:80/lists/kola-l/date.html                   |312    |\n",
      "|http://tichy.ch.uj.edu.pl:80/lists/kola-l/index.html                  |266    |\n",
      "|http://geoinfo.amu.edu.pl:80/wpk/pro/D1B.HTM                          |262    |\n",
      "|http://tichy.ch.uj.edu.pl:80/lists/kola-l/author.html                 |238    |\n",
      "|http://geoinfo.amu.edu.pl:80/wpk/pro/D4.HTM                           |196    |\n",
      "|http://rabarbar.se.com.pl:80/netware/03serv.html                      |190    |\n",
      "|http://www.biblos.pk.edu.pl:80/SFgate/SFgate_5.html                   |160    |\n",
      "|http://www.ia.pw.edu.pl:80/Pl-dos/%7Ettraczyk/kbd1/k14.html           |154    |\n",
      "|http://rhea.waw.ids.edu.pl:80/space/tnp/help.html                     |136    |\n",
      "|http://mezon.if.uj.edu.pl:80/psj/RootHtmlDoc/html/ListOfTypes.html    |136    |\n",
      "|http://rhea.ids.pl:80/space/tnp/help.html                             |136    |\n",
      "|http://chall.ifj.edu.pl:80/DataSources/eegtti-2.3/eeg_toc.html        |128    |\n",
      "|http://www.ssw.krakow.pl:80/List/arch/author.html                     |124    |\n",
      "|http://alt.biblos.pk.edu.pl:80/SFgate/SFgate.html                     |124    |\n",
      "|http://www.ifj.edu.pl:80/%7Eolszewsk/RootHtmlDoc/html/ListOfTypes.html|120    |\n",
      "|http://www.ssw.krakow.pl:80/List/arch/subject.html                    |120    |\n",
      "|http://www.ifj.edu.pl:80/DataSources/eegtti-2.3/eeg_toc.html          |114    |\n",
      "|http://www.abc.com.pl:80/serwis/du/1997/0143.htm                      |114    |\n",
      "+----------------------------------------------------------------------+-------+\n",
      "only showing top 20 rows\n",
      "\n"
     ]
    }
   ],
   "source": [
    "mDu.show(false)"
   ]
  },
  {
   "cell_type": "code",
   "execution_count": 12,
   "metadata": {},
   "outputs": [
    {
     "name": "stdout",
     "output_type": "stream",
     "text": [
      "+-----------------+\n",
      "|     avg(digests)|\n",
      "+-----------------+\n",
      "|4.291094324848399|\n",
      "+-----------------+\n",
      "\n"
     ]
    }
   ],
   "source": [
    "// 5.1 mean\n",
    "mDu.agg(avg(\"digests\")).show()"
   ]
  },
  {
   "cell_type": "code",
   "execution_count": 13,
   "metadata": {},
   "outputs": [
    {
     "name": "stdout",
     "output_type": "stream",
     "text": [
      "+------+\n",
      "|median|\n",
      "+------+\n",
      "|   2.0|\n",
      "+------+\n",
      "\n"
     ]
    }
   ],
   "source": [
    "// 5.2 median\n",
    "mDu.agg(expr(\"percentile(digests, 0.5)\").as(\"median\")).cache().show()"
   ]
  },
  {
   "cell_type": "code",
   "execution_count": 14,
   "metadata": {},
   "outputs": [
    {
     "data": {
      "text/plain": [
       "2538930"
      ]
     },
     "execution_count": 14,
     "metadata": {},
     "output_type": "execute_result"
    }
   ],
   "source": [
    "// tab 2. A - statusy inne niz 200\n",
    "df.where(\"status != '200'\").count()"
   ]
  },
  {
   "cell_type": "code",
   "execution_count": 15,
   "metadata": {},
   "outputs": [
    {
     "data": {
      "text/plain": [
       "2428970"
      ]
     },
     "execution_count": 15,
     "metadata": {},
     "output_type": "execute_result"
    }
   ],
   "source": [
    "// tab 2. A - statusy HTML inne niz 200\n",
    "df.where(\"mime == 'text/html'\").where(\"status != '200'\").count()"
   ]
  },
  {
   "cell_type": "code",
   "execution_count": 16,
   "metadata": {},
   "outputs": [
    {
     "name": "stdout",
     "output_type": "stream",
     "text": [
      "+--------------------+--------------------+------+---------+\n",
      "|         originalUrl|              digest|status|     mime|\n",
      "+--------------------+--------------------+------+---------+\n",
      "|http://www.stopkl...|G4FTDNNZNJO6GUH7R...|   301|text/html|\n",
      "|http://www.stopkl...|5VUKB7Z6GOILJARHX...|   301|text/html|\n",
      "|http://www.stopkl...|KU3WCWBV5ACYZDZZL...|   301|text/html|\n",
      "|http://www.stopkl...|CNHJDUTLTAJ5VGVHD...|   301|text/html|\n",
      "|http://www.stopkl...|BG7BJ3N2FCKJXFLRA...|   301|text/html|\n",
      "|http://www.stopkl...|MEMZFUOSNAOWUB74X...|   301|text/html|\n",
      "|http://www.stopkl...|RKDCERG3DRYP547FD...|   301|text/html|\n",
      "|http://www.stopkl...|BCUMF5QN2AWU3HV3O...|   301|text/html|\n",
      "|http://www.stopkl...|AGFISCLBAHFIIX2GK...|   301|text/html|\n",
      "|http://www.stopkl...|JV5PDUMMJSZYSTACK...|   301|text/html|\n",
      "|http://www.stopkl...|TCUJUC2WNR3KY44VZ...|   301|text/html|\n",
      "|http://www.stopkl...|I2HNYR7UKCVSI2JDD...|   301|text/html|\n",
      "|http://www.stopkl...|PB4DVYXVJG2KI7374...|   301|text/html|\n",
      "|http://www.stopkl...|PB4DVYXVJG2KI7374...|   301|text/html|\n",
      "|http://www.stopkl...|CFJY5WTXRWLZM3B5Q...|   301|text/html|\n",
      "|http://www.stopkl...|GVN3W4BRKV5HTNYTR...|   404|text/html|\n",
      "|http://www.stopkl...|FYYJT6D6RIPB3G6NY...|   301|text/html|\n",
      "|http://www.stopkl...|2SZVMSZCMNQYLNSCR...|   301|text/html|\n",
      "|http://www.stopkl...|D5SLCX4LXI6PKX564...|   301|text/html|\n",
      "|http://www.stopkl...|WVTZ3DFPRD6ODZOOJ...|   301|text/html|\n",
      "|http://www.stopkl...|G7SQ6F3IMHLTBAZ5Z...|   302|text/html|\n",
      "|http://www.stopkl...|HTO2SEV4B5XI2QTAU...|   301|text/html|\n",
      "|http://www.stopkl...|3W6YBSMIAJJGNPPDT...|   301|text/html|\n",
      "|http://www.stopkl...|A3A3S6ZXOZR34M4EY...|   302|text/html|\n",
      "|http://www.stopkl...|7SBBTWI6AQOANERXB...|   302|text/html|\n",
      "|http://www.stopkl...|UVTSJF4U7TCJQFLUN...|   301|text/html|\n",
      "|http://www.stopkl...|GVN3W4BRKV5HTNYTR...|   404|text/html|\n",
      "|http://www.stopkl...|DZRUJHT5WUDOJCO3C...|   301|text/html|\n",
      "|http://www.stopkl...|JIWBKGOIWY75TCNYH...|   301|text/html|\n",
      "|http://www.stopkl...|R4QE24MD5WX5F3QO7...|   301|text/html|\n",
      "|http://www.stopkl...|GVN3W4BRKV5HTNYTR...|   404|text/html|\n",
      "|http://www.stopkl...|S2PBR3OJUSL7BCXM2...|   302|text/html|\n",
      "|http://www.stopkl...|TR5462X3R3ILIBCHY...|   301|text/html|\n",
      "|http://www.stopkl...|UDHFFAVJ5RBD5B74J...|   301|text/html|\n",
      "|http://www.stopkl...|D5IJJFE3EVZXTCEKJ...|   301|text/html|\n",
      "|http://www.stopkl...|I6GEG7MX3LNU7TCM7...|   301|text/html|\n",
      "|http://stopklatka...|GIXYTGD2ADKMVFTQU...|   301|text/html|\n",
      "|http://www.stopkl...|MG4ZJ4BPMXVFSAW3T...|   301|text/html|\n",
      "|http://stopklatka...|4C6ZQCVMOH4SZTCYY...|   301|text/html|\n",
      "|http://www.stopkl...|EY5N4OSS466HJDTMF...|   301|  unknown|\n",
      "|http://www.stopkl...|FV5NG4FTV3W2LGUVF...|   301|  unknown|\n",
      "|http://www.stopkl...|MTXORBH3PRL7UE3OS...|   301|  unknown|\n",
      "|http://www.stopkl...|X7DMGZQB7L64ANT43...|   301|  unknown|\n",
      "|http://www.stopkl...|EHBWW2SLHKWQ624GT...|   301|  unknown|\n",
      "|http://www.stopkl...|YF7KQ2A4KOFH5YM3M...|   301|  unknown|\n",
      "|http://www.stopkl...|DMAVU5K6FJ7PJZRBY...|   301|  unknown|\n",
      "|http://www.stopkl...|B3W6WKHJ2ASFVJ3OK...|   301|  unknown|\n",
      "|http://www.stopkl...|BAHCQ3GV2MYFCEW47...|   301|  unknown|\n",
      "|http://www.stopkl...|XZR4MUIPQCAQ7TYBH...|   301|  unknown|\n",
      "|http://www.stopkl...|NCBUL3G7VYK7F7OOB...|   301|text/html|\n",
      "|http://www.stopkl...|YFF54NHCB6DQ4GL6K...|   301|text/html|\n",
      "|http://www.stopkl...|PAOKKOSBX5GIXYZDS...|   301|  unknown|\n",
      "|http://www.stopkl...|73TOMTTXZ6LQ6JS6F...|   301|  unknown|\n",
      "|http://www.stopkl...|K3UOTSQJLOCFVDU5X...|   301|  unknown|\n",
      "|http://www.stopkl...|UX66NYWWAT24VP5YD...|   301|  unknown|\n",
      "|http://www.stopkl...|RRR77NQQVDSFOCWGA...|   301|  unknown|\n",
      "|http://www.stopkl...|AQELANF4HBJHPBT7P...|   301|  unknown|\n",
      "|http://www.stopkl...|6ODRIPFSXF7DNSM2D...|   301|  unknown|\n",
      "|http://www.stopkl...|FG2JTC5BQS7Q6GQNA...|   301|  unknown|\n",
      "|http://www.stopkl...|76T7AOZR3QAHQMHLU...|   301|  unknown|\n",
      "|http://www.stopkl...|3XYG3VNTKXF7Y4UO2...|   301|  unknown|\n",
      "|http://www.stopkl...|VIDLMHPBJBOB74B36...|   301|  unknown|\n",
      "|http://www.stopkl...|CM6IO4W42KLZU65JF...|   301|  unknown|\n",
      "|http://www.stopkl...|NGWLTAQHWXICCFONK...|   301|  unknown|\n",
      "|http://www.stopkl...|UIAXSEAFONVAMT4W5...|   301|  unknown|\n",
      "|http://www.stopkl...|NCATWM7LQV5MB5QTB...|   301|  unknown|\n",
      "|http://www.stopkl...|MBNN6IV5MLXXKKIQC...|   301|  unknown|\n",
      "|http://www.stopkl...|KP5RT5PRYIAY5AIGW...|   301|  unknown|\n",
      "|http://www.stopkl...|6UEGIPGMPHNAWKLWA...|   301|  unknown|\n",
      "|http://www.stopkl...|NFBSHRAQ2GIRTJWOY...|   301|  unknown|\n",
      "|http://www.stopkl...|Q5JBRZ5J2J6SS33XO...|   301|  unknown|\n",
      "|http://www.stopkl...|OUXW3FZU2R2ZPW2IL...|   301|  unknown|\n",
      "|http://www.stopkl...|IKGOVBSU3A2BDADGR...|   301|  unknown|\n",
      "|http://www.stopkl...|R7BCDPH66I34XOOGQ...|   301|  unknown|\n",
      "|http://www.stopkl...|W55ZQ5FS6HJ5KCPHT...|   301|  unknown|\n",
      "|http://stopklatka...|QBPSLN4EBDSUATLVH...|   301|  unknown|\n",
      "|http://www.stopkl...|7KV2OAMDVUB3AX4KY...|   301|  unknown|\n",
      "|http://www.stopkl...|MY4S756G7RA472TWU...|   301|  unknown|\n",
      "|http://www.stopkl...|5K4CBJWUXKGR356JV...|   301|  unknown|\n",
      "|http://www.stopkl...|AACW7ZRQESN4J5COD...|   302|text/html|\n",
      "|http://www.stopkl...|TJLGRI33EYZNUUMZW...|   301|  unknown|\n",
      "|http://www.stopkl...|IVII6UAFXQTQNQ2UF...|   301|  unknown|\n",
      "|http://www.stopkl...|727HES2ODFYF4C5Q6...|   301|  unknown|\n",
      "|http://www.stopkl...|OQHCAHKJEASNTD5MO...|   301|text/html|\n",
      "|http://stopklatka...|4VDDVAF6B62CMA62Z...|   301|text/html|\n",
      "|http://www.stopkl...|7SB6JWQ7V6QBVVLCC...|   302|text/html|\n",
      "|http://www.stopkl...|5NSIZIA3KJVE6SK7Z...|   301|text/html|\n",
      "|http://stopklatka...|XL5ALLONJP5UT4FOT...|   301|text/html|\n",
      "|http://www.stopkl...|D7HX27PR67TYLIU2L...|   302|text/html|\n",
      "|http://www.stopkl...|PGGMDI4NW4EVNOXL3...|   301|text/html|\n",
      "|http://www.stopkl...|GVN3W4BRKV5HTNYTR...|   404|text/html|\n",
      "|http://www.stopkl...|GVN3W4BRKV5HTNYTR...|   404|text/html|\n",
      "|http://www.stopkl...|FST47GRF74NFOIY4H...|   301|text/html|\n",
      "|http://www.stopkl...|GVN3W4BRKV5HTNYTR...|   404|text/html|\n",
      "|http://www.stopkl...|GVN3W4BRKV5HTNYTR...|   404|text/html|\n",
      "|http://www.stopkl...|GVN3W4BRKV5HTNYTR...|   404|text/html|\n",
      "|http://www.stopkl...|GVN3W4BRKV5HTNYTR...|   404|text/html|\n",
      "|http://www.stopkl...|RJOUO4PTR3S4I3AS3...|   301|text/html|\n",
      "|http://www.stopkl...|GVN3W4BRKV5HTNYTR...|   404|text/html|\n",
      "|http://www.stopkl...|P6A73RIGZLB4HB764...|   301|text/html|\n",
      "|http://www.stopkl...|GVN3W4BRKV5HTNYTR...|   404|text/html|\n",
      "|http://www.stopkl...|YXXPKLLP54BGBDBWW...|   301|text/html|\n",
      "|http://www.stopkl...|GVN3W4BRKV5HTNYTR...|   404|text/html|\n",
      "|http://www.stopkl...|GVN3W4BRKV5HTNYTR...|   404|text/html|\n",
      "|http://www.stopkl...|GVN3W4BRKV5HTNYTR...|   404|text/html|\n",
      "|http://www.stopkl...|GVN3W4BRKV5HTNYTR...|   404|text/html|\n",
      "|http://www.stopkl...|WGIU55TV7YT7O5ZOI...|   301|text/html|\n",
      "|http://www.stopkl...|URENU4ZHEDSJ56YZC...|   301|text/html|\n",
      "|http://www.stopkl...|QBMHZCMVWM7MTQHAG...|   301|text/html|\n",
      "|http://www.stopkl...|GVN3W4BRKV5HTNYTR...|   404|text/html|\n",
      "|http://www.stopkl...|5REYHUO2M6STS64FC...|   301|text/html|\n",
      "|http://www.stopkl...|TNSGV7CHMVODUAYD2...|   301|text/html|\n",
      "|http://www.stopkl...|TUKMFYRUUZ7KF5HH5...|   301|text/html|\n",
      "|http://www.stopkl...|GVN3W4BRKV5HTNYTR...|   404|text/html|\n",
      "|http://www.stopkl...|GVN3W4BRKV5HTNYTR...|   404|text/html|\n",
      "|http://www.stopkl...|TGSCQRUXSNI6TOXXG...|   301|text/html|\n",
      "|http://www.stopkl...|GVN3W4BRKV5HTNYTR...|   404|text/html|\n",
      "|http://www.stopkl...|GVN3W4BRKV5HTNYTR...|   404|text/html|\n",
      "|http://www.stopkl...|GVN3W4BRKV5HTNYTR...|   404|text/html|\n",
      "|http://www.stopkl...|23QJ3HLLZKQ7D5AYF...|   301|text/html|\n",
      "|http://www.stopkl...|GVN3W4BRKV5HTNYTR...|   404|text/html|\n",
      "|http://stopklatka...|UGMKVEJUA7SFOAI2I...|   301|text/html|\n",
      "|http://www.stopkl...|UGMKVEJUA7SFOAI2I...|   301|text/html|\n",
      "|http://www.stopkl...|GVN3W4BRKV5HTNYTR...|   404|text/html|\n",
      "|http://www.stopkl...|YUW4PEN6YOL4PRREO...|   301|text/html|\n",
      "|http://stopklatka...|4ISVCW6SY5OYX27KU...|   301|text/html|\n",
      "|http://www.stopkl...|GVN3W4BRKV5HTNYTR...|   404|text/html|\n",
      "|http://www.stopkl...|GVN3W4BRKV5HTNYTR...|   404|text/html|\n",
      "|http://www.stopkl...|GVN3W4BRKV5HTNYTR...|   404|text/html|\n",
      "|http://www.stopkl...|GVN3W4BRKV5HTNYTR...|   404|text/html|\n",
      "|http://www.stopkl...|GVN3W4BRKV5HTNYTR...|   404|text/html|\n",
      "|http://www.stopkl...|GVN3W4BRKV5HTNYTR...|   404|text/html|\n",
      "|http://www.stopkl...|GVN3W4BRKV5HTNYTR...|   404|text/html|\n",
      "|http://www.stopkl...|Q6KWRAA7T6LBQRYIQ...|   301|text/html|\n",
      "|http://www.stopkl...|H436MN6SKAGGOC7JZ...|   301|text/html|\n",
      "|http://www.stopkl...|GVN3W4BRKV5HTNYTR...|   404|text/html|\n",
      "|http://www.stopkl...|GVN3W4BRKV5HTNYTR...|   404|text/html|\n",
      "|http://www.stopkl...|IIKLPJAM7FMDNR5A3...|   301|text/html|\n",
      "|http://stopklatka...|IIKLPJAM7FMDNR5A3...|   301|text/html|\n",
      "|http://www.stopkl...|QGX3SJRJSHCRZAB4V...|   301|text/html|\n",
      "|http://www.stopkl...|HYGOIMO2CE7QW4ZPF...|   301|text/html|\n",
      "|http://www.stopkl...|GVN3W4BRKV5HTNYTR...|   404|text/html|\n",
      "|http://www.stopkl...|HNAPFIVQONIV5DDB4...|   301|text/html|\n",
      "|http://www.stopkl...|GVN3W4BRKV5HTNYTR...|   404|text/html|\n",
      "|http://www.stopkl...|GVN3W4BRKV5HTNYTR...|   404|text/html|\n",
      "|http://www.stopkl...|GVN3W4BRKV5HTNYTR...|   404|text/html|\n",
      "|http://www.stopkl...|GVN3W4BRKV5HTNYTR...|   404|text/html|\n",
      "|http://www.stopkl...|GVN3W4BRKV5HTNYTR...|   404|text/html|\n",
      "|http://www.stopkl...|GVN3W4BRKV5HTNYTR...|   404|text/html|\n",
      "|http://www.stopkl...|GVN3W4BRKV5HTNYTR...|   404|text/html|\n",
      "+--------------------+--------------------+------+---------+\n",
      "only showing top 150 rows\n",
      "\n"
     ]
    }
   ],
   "source": [
    "// test pls\n",
    "df.where(\"status != '200'\").show(150)"
   ]
  },
  {
   "cell_type": "code",
   "execution_count": 17,
   "metadata": {},
   "outputs": [
    {
     "name": "stdout",
     "output_type": "stream",
     "text": [
      "+--------------------+\n",
      "|count(DISTINCT mime)|\n",
      "+--------------------+\n",
      "|                 108|\n",
      "+--------------------+\n",
      "\n"
     ]
    }
   ],
   "source": [
    "// tab basic2.2\n",
    "// count distinct mime http 200\n",
    "df.where(\"status == '200'\").agg(countDistinct(\"mime\")).show()"
   ]
  },
  {
   "cell_type": "code",
   "execution_count": 18,
   "metadata": {},
   "outputs": [
    {
     "name": "stdout",
     "output_type": "stream",
     "text": [
      "+--------------------+-------+\n",
      "|                mime|  count|\n",
      "+--------------------+-------+\n",
      "|           text/html|8201580|\n",
      "|                  im|3611894|\n",
      "|           alexa/dat| 324962|\n",
      "|           image/gif| 178262|\n",
      "|          image/jpeg| 157048|\n",
      "|             text/pl| 115800|\n",
      "|                 unk|  90994|\n",
      "|          text/plain|  65152|\n",
      "|     application/zip|   2060|\n",
      "|            text/css|   1466|\n",
      "|audio/x-pn-realaudio|   1406|\n",
      "|application/posts...|   1212|\n",
      "|application/octet...|   1048|\n",
      "|application/x-jav...|    936|\n",
      "|             unknown|    802|\n",
      "|     application/pdf|    734|\n",
      "|           image/png|    694|\n",
      "|application/x-zip...|    674|\n",
      "|          audio/midi|    644|\n",
      "|          audio/mpeg|    566|\n",
      "|              text/x|    390|\n",
      "|  application/msword|    300|\n",
      "|         audio/basic|    290|\n",
      "|            text/rtf|    216|\n",
      "|          video/mpeg|    174|\n",
      "|     video/quicktime|    160|\n",
      "|         audio/x-wav|    154|\n",
      "|   application/x-tar|    136|\n",
      "|             video/x|    130|\n",
      "|application/x-sho...|    104|\n",
      "|              multip|    102|\n",
      "|           audio/mid|    100|\n",
      "|                   x|     84|\n",
      "|        audio/x-mpeg|     80|\n",
      "|     image/x-xbitmap|     74|\n",
      "|     application/rtf|     72|\n",
      "|application/x-gunzip|     52|\n",
      "|                mess|     48|\n",
      "|     video/x-msvideo|     48|\n",
      "|  application/x-gzip|     38|\n",
      "|         www/unknown|     38|\n",
      "|        audio/x-midi|     36|\n",
      "|           image/bmp|     32|\n",
      "|       text/x-setext|     32|\n",
      "|application/x-poi...|     30|\n",
      "|      video/x-ms-asf|     30|\n",
      "|audio/x-pn-realau...|     30|\n",
      "|          image/tiff|     30|\n",
      "|          httpd/unix|     28|\n",
      "|            text/vnd|     28|\n",
      "|           appl/text|     26|\n",
      "|            text/xml|     24|\n",
      "|               text/|     24|\n",
      "|                   m|     20|\n",
      "|application/x-stu...|     20|\n",
      "|           audio/wav|     18|\n",
      "|   audio/x-realaudio|     18|\n",
      "|application/x-com...|     16|\n",
      "|application/mac-b...|     16|\n",
      "|          model/vrml|     14|\n",
      "|        text/x-vcard|     14|\n",
      "|           text/sgml|     12|\n",
      "|     multipart/x-zip|     12|\n",
      "|       text/c-source|     12|\n",
      "|          httpd/send|     10|\n",
      "|application/vnd.m...|     10|\n",
      "|         text/x-java|     10|\n",
      "|        audio/x-aiff|      8|\n",
      "|application/x-msd...|      8|\n",
      "|   application/x-tex|      8|\n",
      "|    text/vnd.wap.wml|      8|\n",
      "|              text/c|      8|\n",
      "|application/x-com...|      8|\n",
      "|application/x-msm...|      6|\n",
      "|application/x-htt...|      6|\n",
      "|    application/smil|      6|\n",
      "|         image/pjpeg|      6|\n",
      "|    application/x-sh|      6|\n",
      "|application/vnd.m...|      6|\n",
      "|     applicatpliczip|      6|\n",
      "|            text/rdf|      6|\n",
      "|                  dr|      6|\n",
      "|  application/x-gtar|      6|\n",
      "|      x-world/x-vrml|      6|\n",
      "| application/x-troff|      4|\n",
      "|         text/x-csrc|      4|\n",
      "|application/x-netcdf|      4|\n",
      "|          image/ico.|      4|\n",
      "|application/x-htt...|      4|\n",
      "|       drawing/x-dwf|      4|\n",
      "|        image/x-icon|      4|\n",
      "|              image/|      4|\n",
      "|   application/x-cdf|      4|\n",
      "|          text/x-tex|      2|\n",
      "|         image/x-png|      2|\n",
      "|         text/x-sgml|      2|\n",
      "|   application/x-dvi|      2|\n",
      "|   application/x-tgz|      2|\n",
      "|                 bin|      2|\n",
      "|       video/unknown|      2|\n",
      "| application/x-excel|      2|\n",
      "|    application/gzip|      2|\n",
      "|           text/x-sh|      2|\n",
      "|     text/x-imagemap|      2|\n",
      "|application/x-pn-...|      2|\n",
      "|         text/x-chdr|      2|\n",
      "|                text|      2|\n",
      "|   application/x-rpm|      2|\n",
      "+--------------------+-------+\n",
      "\n"
     ]
    }
   ],
   "source": [
    "// count all mimes counts\n",
    "df.where(\"status == '200'\").groupBy(\"mime\").count().orderBy(desc(\"count\")).cache().show(120)"
   ]
  },
  {
   "cell_type": "code",
   "execution_count": 6,
   "metadata": {},
   "outputs": [],
   "source": [
    "// for tests - liczba wersji na origina;Url\n",
    "import org.apache.spark.sql.functions.count\n",
    "import org.apache.spark.sql.functions._\n",
    "\n",
    "val vBu = df.groupBy(\"originalUrl\").agg(countDistinct(\"digest\") as \"distDigests\").cache()\n"
   ]
  },
  {
   "cell_type": "code",
   "execution_count": 7,
   "metadata": {},
   "outputs": [
    {
     "name": "stdout",
     "output_type": "stream",
     "text": [
      "+------------------+\n",
      "|        avgDigests|\n",
      "+------------------+\n",
      "|1.3603255989010588|\n",
      "+------------------+\n",
      "\n"
     ]
    }
   ],
   "source": [
    "// avg\n",
    "vBu.agg(avg(\"distDigests\") as \"avgDigests\").show()\n"
   ]
  },
  {
   "cell_type": "code",
   "execution_count": 8,
   "metadata": {},
   "outputs": [
    {
     "name": "stdout",
     "output_type": "stream",
     "text": [
      "\r",
      "                                                                                \r",
      "+----------+\n",
      "|medDigests|\n",
      "+----------+\n",
      "|       1.0|\n",
      "+----------+\n",
      "\n"
     ]
    }
   ],
   "source": [
    "vBu.agg(expr(\"percentile(distDigests, 0.5)\").as(\"medDigests\")).cache().show()"
   ]
  },
  {
   "cell_type": "code",
   "execution_count": null,
   "metadata": {},
   "outputs": [],
   "source": []
  }
 ],
 "metadata": {
  "kernelspec": {
   "display_name": "ArchiveSpark",
   "language": "",
   "name": "archivespark"
  },
  "language_info": {
   "name": "scala",
   "version": "2.11.8"
  }
 },
 "nbformat": 4,
 "nbformat_minor": 2
}
