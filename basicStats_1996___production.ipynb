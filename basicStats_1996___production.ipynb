{
 "cells": [
  {
   "cell_type": "code",
   "execution_count": 1,
   "metadata": {},
   "outputs": [],
   "source": [
    "// 1. Installation\n",
    "\n",
    "//install libraries\n",
    "import org.archive.archivespark._\n",
    "import org.archive.archivespark.functions._\n",
    "import org.archive.archivespark.specific.warc._\n",
    "\n",
    "// data files - generic path from docker run -v\n",
    "val cdxPath = \"/data/arc_cdx/*.cdx\"\n",
    "val warcPath = \"/data/warc\"\n",
    "\n",
    "import org.apache.spark.sql.{Row, SparkSession}\n",
    "\n",
    "val session = spark.newSession\n",
    "\n",
    "// collect all records\n",
    "\n",
    "val r = ArchiveSpark.load(WarcSpec.fromFiles(cdxPath, warcPath))"
   ]
  },
  {
   "cell_type": "code",
   "execution_count": 2,
   "metadata": {},
   "outputs": [],
   "source": [
    "val researchYear = \"1996\""
   ]
  },
  {
   "cell_type": "code",
   "execution_count": 3,
   "metadata": {},
   "outputs": [],
   "source": [
    "// 2. Count ALL objects from research Year\n",
    "// 2.1 get data for text/html & HTTP 200 for each Year\n",
    "val t1 = r.filter(r => r.timestamp.startsWith(\"1996\"))\n"
   ]
  },
  {
   "cell_type": "code",
   "execution_count": 4,
   "metadata": {},
   "outputs": [
    {
     "data": {
      "text/plain": [
       "161318"
      ]
     },
     "execution_count": 4,
     "metadata": {},
     "output_type": "execute_result"
    }
   ],
   "source": [
    "// 2.2 count all captures\n",
    "t1.count()"
   ]
  },
  {
   "cell_type": "code",
   "execution_count": 4,
   "metadata": {},
   "outputs": [],
   "source": [
    "// 3. generate basic data frame\n",
    "\n",
    "val m = t1.map(f=> (f.originalUrl,f.digest,f.status,f.mime))\n",
    "val df = session.createDataFrame(m).toDF(\"originalUrl\",\"digest\",\"status\",\"mime\").cache()"
   ]
  },
  {
   "cell_type": "code",
   "execution_count": 8,
   "metadata": {},
   "outputs": [
    {
     "name": "stdout",
     "output_type": "stream",
     "text": [
      "+--------------------+--------------------+------+----------+\n",
      "|         originalUrl|              digest|status|      mime|\n",
      "+--------------------+--------------------+------+----------+\n",
      "|http://studio-net...|SEIFFLPZ24OLR4RJP...|   200| text/html|\n",
      "|http://studio-net...|J7RVGRQDPWWKUZIHO...|   200| image/gif|\n",
      "|http://studio-net...|CHZGLOERIPVY7PJKF...|   200| image/gif|\n",
      "|http://studio-net...|4IEAZP7DIEV4BFZA6...|   200| image/gif|\n",
      "|http://studio-net...|LRWGP7FT2X5LK5MGP...|   200| text/html|\n",
      "|http://peclet.sun...|JXPE6KEXM43S6O5UO...|   200| text/html|\n",
      "|http://peclet.sun...|JXPE6KEXM43S6O5UO...|   200| text/html|\n",
      "|http://peclet.sun...|JXPE6KEXM43S6O5UO...|   200| text/html|\n",
      "|http://peclet.sun...|FMWX5T2OZBC3ZRCTL...|   200| text/html|\n",
      "|http://peclet.sun...|QMOAWPTVNA5QOU3DG...|   200|image/jpeg|\n",
      "|http://peclet.sun...|DJLKGQHMMBHFKHPTZ...|   200|image/jpeg|\n",
      "|http://peclet.sun...|DJLKGQHMMBHFKHPTZ...|   200|image/jpeg|\n",
      "|http://peclet.sun...|QMOAWPTVNA5QOU3DG...|   200|image/jpeg|\n",
      "|http://peclet.sun...|QMOAWPTVNA5QOU3DG...|   200|image/jpeg|\n",
      "|http://peclet.sun...|QMOAWPTVNA5QOU3DG...|   200|image/jpeg|\n",
      "|http://peclet.sun...|3CZBNW76OEE446KIC...|   200| image/gif|\n",
      "|http://peclet.sun...|3CZBNW76OEE446KIC...|   200| image/gif|\n",
      "|http://peclet.sun...|3CZBNW76OEE446KIC...|   200| image/gif|\n",
      "|http://peclet.sun...|QO4BWJ3FZ7JQWUYQF...|   200| image/gif|\n",
      "|http://peclet.sun...|QO4BWJ3FZ7JQWUYQF...|   200| image/gif|\n",
      "+--------------------+--------------------+------+----------+\n",
      "only showing top 20 rows\n",
      "\n"
     ]
    }
   ],
   "source": [
    "df.show()"
   ]
  },
  {
   "cell_type": "code",
   "execution_count": 26,
   "metadata": {},
   "outputs": [
    {
     "data": {
      "text/plain": [
       "161318"
      ]
     },
     "execution_count": 26,
     "metadata": {},
     "output_type": "execute_result"
    }
   ],
   "source": [
    "// 161318 OK\n",
    "df.count()"
   ]
  },
  {
   "cell_type": "code",
   "execution_count": 9,
   "metadata": {},
   "outputs": [],
   "source": [
    "// 4. Count distinct originalUrls\n",
    "val dOu = df.select(df(\"originalUrl\")).distinct.count()"
   ]
  },
  {
   "cell_type": "code",
   "execution_count": 13,
   "metadata": {},
   "outputs": [
    {
     "data": {
      "text/plain": [
       "72229"
      ]
     },
     "execution_count": 13,
     "metadata": {},
     "output_type": "execute_result"
    }
   ],
   "source": [
    "dOu"
   ]
  },
  {
   "cell_type": "code",
   "execution_count": 20,
   "metadata": {},
   "outputs": [],
   "source": [
    "// 5. srednia i mediana liczby wersji na pojedynczy URL\n",
    "import org.apache.spark.sql.functions.count\n",
    "import org.apache.spark.sql.functions._\n",
    "\n",
    "val mDu = df.groupBy(\"originalUrl\").agg(count(\"digest\") as \"digests\").orderBy(desc(\"digests\")).cache()"
   ]
  },
  {
   "cell_type": "code",
   "execution_count": 22,
   "metadata": {},
   "outputs": [
    {
     "name": "stdout",
     "output_type": "stream",
     "text": [
      "+-----------------------------------------------------------------------------+-------+\n",
      "|originalUrl                                                                  |digests|\n",
      "+-----------------------------------------------------------------------------+-------+\n",
      "|http://www.apple.com.pl:80/HTML/DT/Technews/20AppleQTConf.html               |12     |\n",
      "|http://www.apple.com.pl:80/HTML/ApplewInternecie/Wellconnected/wcm.gif       |12     |\n",
      "|http://www.apple.com.pl:80/HTML/DT/InfoAlley/96.09.04.html                   |12     |\n",
      "|http://www.apple.com.pl:80/HTML/ApplewPolsce/CIT/szkol.gif                   |12     |\n",
      "|http://www.apple.com.pl:80/HTML/ApplewPolsce/CIT/opi.gif                     |12     |\n",
      "|http://www.apple.com.pl:80/HTML/ApplewPolsce/CIT/pi.gif                      |12     |\n",
      "|http://www.apple.com.pl:80/HTML/DT/InfoAlley/96.06.2520.html                 |12     |\n",
      "|http://www.apple.com.pl:80/HTML/ApplewInternecie/EverythingMac/welcomeold.gif|12     |\n",
      "|http://www.apple.com.pl:80/HTML/ApplewInternecie/listadyskusyjna.html        |12     |\n",
      "|http://www.apple.com.pl:80/HTML/ApplewPolsce/CIT/TOPAZ.gif                   |12     |\n",
      "|http://www.apple.com.pl:80/HTML/ApplewInternecie/Cultofmac/cult.gif          |12     |\n",
      "|http://www.apple.com.pl:80/HTML/ApplewInternecie/AppleUSA/banner.gif         |12     |\n",
      "|http://www.apple.com.pl:80/HTML/ApplewPolsce/CIT/Scanny.jpg                  |12     |\n",
      "|http://www.apple.com.pl:80/HTML/DT/InfoAlley/96.08.30.html                   |12     |\n",
      "|http://www.apple.com.pl:80/HTML/Lokalizacja/_Lokalizacja.html                |12     |\n",
      "|http://www.apple.com.pl:80/HTML/DT/InfoAlley/96.08.26.html                   |12     |\n",
      "|http://www.apple.com.pl:80/HTML/DT/InfoAlley/96.09.06.html                   |12     |\n",
      "|http://www.apple.com.pl:80/HTML/DT/Test.html                                 |12     |\n",
      "|http://www.apple.com.pl:80/HTML/DT/InfoAlleyinfo.html                        |12     |\n",
      "|http://www.apple.com.pl:80/HTML/DT/InfoAlley/96.07.08.html                   |12     |\n",
      "+-----------------------------------------------------------------------------+-------+\n",
      "only showing top 20 rows\n",
      "\n"
     ]
    }
   ],
   "source": [
    "mDu.show(false)"
   ]
  },
  {
   "cell_type": "code",
   "execution_count": 23,
   "metadata": {},
   "outputs": [
    {
     "name": "stdout",
     "output_type": "stream",
     "text": [
      "+-----------------+\n",
      "|     avg(digests)|\n",
      "+-----------------+\n",
      "|2.233424247878276|\n",
      "+-----------------+\n",
      "\n"
     ]
    }
   ],
   "source": [
    "// 5.1 mean\n",
    "mDu.agg(avg(\"digests\")).show()"
   ]
  },
  {
   "cell_type": "code",
   "execution_count": 25,
   "metadata": {},
   "outputs": [
    {
     "name": "stdout",
     "output_type": "stream",
     "text": [
      "+------+\n",
      "|median|\n",
      "+------+\n",
      "|   2.0|\n",
      "+------+\n",
      "\n"
     ]
    }
   ],
   "source": [
    "// 5.2 median\n",
    "mDu.agg(expr(\"percentile(digests, 0.5)\").as(\"median\")).cache().show()"
   ]
  },
  {
   "cell_type": "code",
   "execution_count": 28,
   "metadata": {},
   "outputs": [
    {
     "data": {
      "text/plain": [
       "126"
      ]
     },
     "execution_count": 28,
     "metadata": {},
     "output_type": "execute_result"
    }
   ],
   "source": [
    "// tab 2. A - statusy inne niz 200\n",
    "df.where(\"status != '200'\").count()"
   ]
  },
  {
   "cell_type": "code",
   "execution_count": 31,
   "metadata": {},
   "outputs": [
    {
     "data": {
      "text/plain": [
       "126"
      ]
     },
     "execution_count": 31,
     "metadata": {},
     "output_type": "execute_result"
    }
   ],
   "source": [
    "// tab 2. A - statusy HTML inne niz 200\n",
    "df.where(\"mime == 'text/html'\").where(\"status != '200'\").count()"
   ]
  },
  {
   "cell_type": "code",
   "execution_count": 37,
   "metadata": {},
   "outputs": [
    {
     "name": "stdout",
     "output_type": "stream",
     "text": [
      "+--------------------+--------------------+------+---------+\n",
      "|         originalUrl|              digest|status|     mime|\n",
      "+--------------------+--------------------+------+---------+\n",
      "|http://zeus.polsl...|CEVC55YON762RHVFH...|   500|text/html|\n",
      "|http://zeus.polsl...|CEVC55YON762RHVFH...|   500|text/html|\n",
      "|http://zeus.polsl...|CEVC55YON762RHVFH...|   500|text/html|\n",
      "|http://zeus.polsl...|CEVC55YON762RHVFH...|   500|text/html|\n",
      "|http://zeus.polsl...|CEVC55YON762RHVFH...|   500|text/html|\n",
      "|http://zeus.polsl...|CEVC55YON762RHVFH...|   500|text/html|\n",
      "|http://zeus.polsl...|CEVC55YON762RHVFH...|   500|text/html|\n",
      "|http://zeus.polsl...|CEVC55YON762RHVFH...|   500|text/html|\n",
      "|http://zeus.polsl...|CEVC55YON762RHVFH...|   500|text/html|\n",
      "|http://zeus.polsl...|CEVC55YON762RHVFH...|   500|text/html|\n",
      "|http://zeus.polsl...|CEVC55YON762RHVFH...|   500|text/html|\n",
      "|http://zeus.polsl...|CEVC55YON762RHVFH...|   500|text/html|\n",
      "|http://www.loiv.t...|A6MYLAQFTIGXAHGA3...|   302|text/html|\n",
      "|http://www.loiv.t...|4R46ULUVTWQVB4H5Z...|   302|text/html|\n",
      "|http://www.loiv.t...|QZLW7YNKXIFUJIQKD...|   302|text/html|\n",
      "|http://jaguar.cc....|IVN4MY4OXTREPXEI7...|   500|text/html|\n",
      "|http://jaguar.cc....|IVN4MY4OXTREPXEI7...|   500|text/html|\n",
      "|http://jaguar.cc....|IVN4MY4OXTREPXEI7...|   500|text/html|\n",
      "|http://eris.kbn.g...|EAM7D5UGGJH6HL6TZ...|   302|text/html|\n",
      "|http://www.atm.co...|52MBZZJGNWEB7WYX2...|   302|text/html|\n",
      "|http://www.bci.kr...|5SYTBKRLSAMQF6SIF...|   302|text/html|\n",
      "|http://www.bci.kr...|X7YMFKKFUCMJFJDOU...|   302|text/html|\n",
      "|http://www.bci.kr...|GN77SC3PJQXH6BB7J...|   302|text/html|\n",
      "|http://www.bci.kr...|ZN5TOVIXRERQGK5UB...|   302|text/html|\n",
      "|http://www.bci.kr...|CMO6NKSLTR3FUJTGI...|   302|text/html|\n",
      "|http://www.bci.kr...|HWF4DNWTHCWDW2IIF...|   302|text/html|\n",
      "|http://www.pk.edu...|NZCDHKCTTPSZQGHOT...|   302|text/html|\n",
      "|http://www.pk.edu...|IZCDR6UCRQ55R4W34...|   302|text/html|\n",
      "|http://www.pk.edu...|DWJZE5KII5QH6LVKJ...|   302|text/html|\n",
      "|http://www.pk.edu...|MAUU5YPVU3AGKACKH...|   302|text/html|\n",
      "|http://www.pk.edu...|7TOZL42IWFFKRJZZM...|   302|text/html|\n",
      "|http://www.pk.edu...|HDD5FB625UMDVFBSE...|   302|text/html|\n",
      "|http://lab.twins....|KUPFZFD75KO7HATTO...|   302|text/html|\n",
      "|http://w3cache.pk...|3IQPQDG6P64CHCYES...|   302|text/html|\n",
      "|http://www.cto.us...|3P4JSZNULOTNFV6PW...|   302|text/html|\n",
      "|http://www.cto.us...|FZC2ZX2B67XDE63PQ...|   302|text/html|\n",
      "|http://www.cto.us...|WWAQ4NH5I27DU4T5H...|   302|text/html|\n",
      "|http://www.cto.us...|3WD24TJD7UFZ6M43C...|   302|text/html|\n",
      "|http://www.cto.us...|EG3ADHJ4TUPICDSGN...|   302|text/html|\n",
      "|http://sun1000.ci...|FLSUEHSU4RLSPHBQW...|   302|text/html|\n",
      "|http://sun1000.ci...|T2JKFNMEI2MVUUHIM...|   302|text/html|\n",
      "|http://www.immt.p...|WHKSIMYTTH4GZTGEI...|   500|text/html|\n",
      "|http://www.ita.pw...|GPNMREIZH5WWKYJUA...|   302|text/html|\n",
      "|http://eris.kbn.g...|EAM7D5UGGJH6HL6TZ...|   302|text/html|\n",
      "|http://www.pk.edu...|NZCDHKCTTPSZQGHOT...|   302|text/html|\n",
      "|http://www.pk.edu...|IZCDR6UCRQ55R4W34...|   302|text/html|\n",
      "|http://www.pk.edu...|DWJZE5KII5QH6LVKJ...|   302|text/html|\n",
      "|http://www.pk.edu...|MAUU5YPVU3AGKACKH...|   302|text/html|\n",
      "|http://www.pk.edu...|7TOZL42IWFFKRJZZM...|   302|text/html|\n",
      "|http://www.pk.edu...|HDD5FB625UMDVFBSE...|   302|text/html|\n",
      "|http://lab.twins....|KUPFZFD75KO7HATTO...|   302|text/html|\n",
      "|http://w3cache.pk...|3IQPQDG6P64CHCYES...|   302|text/html|\n",
      "|http://www.cto.us...|3P4JSZNULOTNFV6PW...|   302|text/html|\n",
      "|http://www.cto.us...|FZC2ZX2B67XDE63PQ...|   302|text/html|\n",
      "|http://www.cto.us...|WWAQ4NH5I27DU4T5H...|   302|text/html|\n",
      "|http://www.cto.us...|3WD24TJD7UFZ6M43C...|   302|text/html|\n",
      "|http://www.cto.us...|EG3ADHJ4TUPICDSGN...|   302|text/html|\n",
      "|http://www.contac...|L6Q22RO4B37RQZISG...|   302|text/html|\n",
      "|http://www.contac...|3RM7F6TND2Z5XEPRO...|   302|text/html|\n",
      "|http://www.ipipan...|PNTXQ4RNRCP7YEEBH...|   302|text/html|\n",
      "|http://zeus.polsl...|CEVC55YON762RHVFH...|   500|text/html|\n",
      "|http://zeus.polsl...|CEVC55YON762RHVFH...|   500|text/html|\n",
      "|http://zeus.polsl...|CEVC55YON762RHVFH...|   500|text/html|\n",
      "|http://zeus.polsl...|CEVC55YON762RHVFH...|   500|text/html|\n",
      "|http://zeus.polsl...|CEVC55YON762RHVFH...|   500|text/html|\n",
      "|http://zeus.polsl...|CEVC55YON762RHVFH...|   500|text/html|\n",
      "|http://zeus.polsl...|CEVC55YON762RHVFH...|   500|text/html|\n",
      "|http://zeus.polsl...|CEVC55YON762RHVFH...|   500|text/html|\n",
      "|http://zeus.polsl...|CEVC55YON762RHVFH...|   500|text/html|\n",
      "|http://zeus.polsl...|CEVC55YON762RHVFH...|   500|text/html|\n",
      "|http://zeus.polsl...|CEVC55YON762RHVFH...|   500|text/html|\n",
      "|http://zeus.polsl...|CEVC55YON762RHVFH...|   500|text/html|\n",
      "|http://www.loiv.t...|A6MYLAQFTIGXAHGA3...|   302|text/html|\n",
      "|http://www.loiv.t...|4R46ULUVTWQVB4H5Z...|   302|text/html|\n",
      "|http://www.loiv.t...|QZLW7YNKXIFUJIQKD...|   302|text/html|\n",
      "|http://jaguar.cc....|IVN4MY4OXTREPXEI7...|   500|text/html|\n",
      "|http://jaguar.cc....|IVN4MY4OXTREPXEI7...|   500|text/html|\n",
      "|http://jaguar.cc....|IVN4MY4OXTREPXEI7...|   500|text/html|\n",
      "|http://www.solide...|VGOWGO3JBBSPDKJIY...|   302|text/html|\n",
      "|http://www.solide...|4OJLU7IYEK7KZIP6Z...|   302|text/html|\n",
      "|http://www.solide...|WNFFS7QZ4HFHLC433...|   302|text/html|\n",
      "|http://www.solide...|J5NIIRHPFZE34GFGV...|   302|text/html|\n",
      "|http://www.solide...|6DWISAIVZCJQS7537...|   302|text/html|\n",
      "|http://www.solide...|QWRSELP6EGEJ5KLOT...|   302|text/html|\n",
      "|http://www.solide...|LKRZ4RAYPB4VX773A...|   302|text/html|\n",
      "|http://www.solide...|HBWVRFSV6FW3KWMFF...|   302|text/html|\n",
      "|http://www.solide...|6J6ZCOEZEMRSOF7OY...|   302|text/html|\n",
      "|http://www.solide...|7OJ227GQFAVB5K4F6...|   302|text/html|\n",
      "|http://www.solide...|PFDTLBJMPULR2RWYT...|   302|text/html|\n",
      "|http://www.solide...|2J2IGVBQQQRZPLNHT...|   302|text/html|\n",
      "|http://www.solide...|SELYOQZHHGT5AKSA6...|   302|text/html|\n",
      "|http://www.solide...|WSU7CALYYYHEJEWIN...|   302|text/html|\n",
      "|http://www.solide...|K6R6XVJCMOOUDCX7J...|   302|text/html|\n",
      "|http://www.solide...|TKBMKMBDVKJLKHHTL...|   302|text/html|\n",
      "|http://www.solide...|IYL6DUI3FZXDM6MBR...|   302|text/html|\n",
      "|http://sun1000.ci...|FLSUEHSU4RLSPHBQW...|   302|text/html|\n",
      "|http://sun1000.ci...|T2JKFNMEI2MVUUHIM...|   302|text/html|\n",
      "|http://www.immt.p...|WHKSIMYTTH4GZTGEI...|   500|text/html|\n",
      "|http://www.ita.pw...|GPNMREIZH5WWKYJUA...|   302|text/html|\n",
      "|http://www.bci.kr...|5SYTBKRLSAMQF6SIF...|   302|text/html|\n",
      "|http://www.bci.kr...|X7YMFKKFUCMJFJDOU...|   302|text/html|\n",
      "|http://www.bci.kr...|GN77SC3PJQXH6BB7J...|   302|text/html|\n",
      "|http://www.bci.kr...|ZN5TOVIXRERQGK5UB...|   302|text/html|\n",
      "|http://www.bci.kr...|CMO6NKSLTR3FUJTGI...|   302|text/html|\n",
      "|http://www.bci.kr...|HWF4DNWTHCWDW2IIF...|   302|text/html|\n",
      "|http://www.contac...|L6Q22RO4B37RQZISG...|   302|text/html|\n",
      "|http://www.contac...|3RM7F6TND2Z5XEPRO...|   302|text/html|\n",
      "|http://www.ipipan...|PNTXQ4RNRCP7YEEBH...|   302|text/html|\n",
      "|http://www.solide...|VGOWGO3JBBSPDKJIY...|   302|text/html|\n",
      "|http://www.solide...|4OJLU7IYEK7KZIP6Z...|   302|text/html|\n",
      "|http://www.solide...|WNFFS7QZ4HFHLC433...|   302|text/html|\n",
      "|http://www.solide...|J5NIIRHPFZE34GFGV...|   302|text/html|\n",
      "|http://www.solide...|6DWISAIVZCJQS7537...|   302|text/html|\n",
      "|http://www.solide...|QWRSELP6EGEJ5KLOT...|   302|text/html|\n",
      "|http://www.solide...|LKRZ4RAYPB4VX773A...|   302|text/html|\n",
      "|http://www.solide...|HBWVRFSV6FW3KWMFF...|   302|text/html|\n",
      "|http://www.solide...|6J6ZCOEZEMRSOF7OY...|   302|text/html|\n",
      "|http://www.solide...|7OJ227GQFAVB5K4F6...|   302|text/html|\n",
      "|http://www.solide...|PFDTLBJMPULR2RWYT...|   302|text/html|\n",
      "|http://www.solide...|2J2IGVBQQQRZPLNHT...|   302|text/html|\n",
      "|http://www.solide...|SELYOQZHHGT5AKSA6...|   302|text/html|\n",
      "|http://www.solide...|WSU7CALYYYHEJEWIN...|   302|text/html|\n",
      "|http://www.solide...|K6R6XVJCMOOUDCX7J...|   302|text/html|\n",
      "|http://www.solide...|TKBMKMBDVKJLKHHTL...|   302|text/html|\n",
      "|http://www.solide...|IYL6DUI3FZXDM6MBR...|   302|text/html|\n",
      "|http://www.atm.co...|52MBZZJGNWEB7WYX2...|   302|text/html|\n",
      "+--------------------+--------------------+------+---------+\n",
      "\n"
     ]
    }
   ],
   "source": [
    "// test pls\n",
    "df.where(\"status != '200'\").show(150)"
   ]
  },
  {
   "cell_type": "code",
   "execution_count": 38,
   "metadata": {},
   "outputs": [
    {
     "name": "stdout",
     "output_type": "stream",
     "text": [
      "+--------------------+\n",
      "|count(DISTINCT mime)|\n",
      "+--------------------+\n",
      "|                  42|\n",
      "+--------------------+\n",
      "\n"
     ]
    }
   ],
   "source": [
    "// tab basic2.2\n",
    "// count distinct mime http 200\n",
    "df.where(\"status == '200'\").agg(countDistinct(\"mime\")).show()"
   ]
  },
  {
   "cell_type": "code",
   "execution_count": 42,
   "metadata": {},
   "outputs": [
    {
     "name": "stdout",
     "output_type": "stream",
     "text": [
      "+--------------------+-----+\n",
      "|                mime|count|\n",
      "+--------------------+-----+\n",
      "|           text/html|85006|\n",
      "|           image/gif|47762|\n",
      "|          text/plain|16064|\n",
      "|          image/jpeg|10034|\n",
      "|application/posts...|  420|\n",
      "|     image/x-xbitmap|  338|\n",
      "|                 unk|  268|\n",
      "|         audio/x-wav|  232|\n",
      "|     application/pdf|  180|\n",
      "|     application/zip|  170|\n",
      "|application/octet...|  152|\n",
      "|   application/x-dvi|  134|\n",
      "| application/x-troff|  110|\n",
      "|   application/x-tex|   72|\n",
      "|   application/x-tar|   44|\n",
      "|application/x-msd...|   30|\n",
      "|audio/x-pn-realaudio|   28|\n",
      "|          video/mpeg|   28|\n",
      "| application/x-excel|   16|\n",
      "|     application/rtf|   16|\n",
      "|          image/tiff|   14|\n",
      "|         audio/basic|    8|\n",
      "|     image/x-xpixmap|    6|\n",
      "|             unknown|    6|\n",
      "|     video/quicktime|    6|\n",
      "|application/mac-b...|    6|\n",
      "|application/x-tro...|    6|\n",
      "|    application/x-sh|    4|\n",
      "|  application/msword|    4|\n",
      "|     multipart/x-zip|    4|\n",
      "|        audio/x-aiff|    2|\n",
      "|            gzip.zip|    2|\n",
      "|text/x-server-par...|    2|\n",
      "|           audio/wav|    2|\n",
      "|        audio/x-midi|    2|\n",
      "|application/x-wai...|    2|\n",
      "|     multipart/x-tar|    2|\n",
      "|     video/x-msvideo|    2|\n",
      "|      x-world/x-vrml|    2|\n",
      "|   audio/x-realaudio|    2|\n",
      "|application/octet...|    2|\n",
      "|      x-music/x-midi|    2|\n",
      "+--------------------+-----+\n",
      "\n"
     ]
    }
   ],
   "source": [
    "// count all mimes counts\n",
    "df.where(\"status == '200'\").groupBy(\"mime\").count().orderBy(desc(\"count\")).cache().show(100)"
   ]
  },
  {
   "cell_type": "code",
   "execution_count": 6,
   "metadata": {},
   "outputs": [],
   "source": [
    "// for tests - liczba wersji na origina;Url\n",
    "import org.apache.spark.sql.functions.count\n",
    "import org.apache.spark.sql.functions._\n",
    "\n",
    "val vBu = df.groupBy(\"originalUrl\").agg(countDistinct(\"digest\") as \"distDigests\").cache()"
   ]
  },
  {
   "cell_type": "code",
   "execution_count": 7,
   "metadata": {},
   "outputs": [
    {
     "name": "stdout",
     "output_type": "stream",
     "text": [
      "+------------------+\n",
      "|        avgDigests|\n",
      "+------------------+\n",
      "|1.0083346024450013|\n",
      "+------------------+\n",
      "\n"
     ]
    }
   ],
   "source": [
    "// avg\n",
    "vBu.agg(avg(\"distDigests\") as \"avgDigests\").show()"
   ]
  },
  {
   "cell_type": "code",
   "execution_count": 8,
   "metadata": {},
   "outputs": [
    {
     "name": "stdout",
     "output_type": "stream",
     "text": [
      "+----------+\n",
      "|medDigests|\n",
      "+----------+\n",
      "|       1.0|\n",
      "+----------+\n",
      "\n"
     ]
    }
   ],
   "source": [
    "vBu.agg(expr(\"percentile(distDigests, 0.5)\").as(\"medDigests\")).cache().show()"
   ]
  },
  {
   "cell_type": "code",
   "execution_count": null,
   "metadata": {},
   "outputs": [],
   "source": []
  }
 ],
 "metadata": {
  "kernelspec": {
   "display_name": "ArchiveSpark",
   "language": "",
   "name": "archivespark"
  },
  "language_info": {
   "name": "scala",
   "version": "2.11.8"
  }
 },
 "nbformat": 4,
 "nbformat_minor": 2
}
