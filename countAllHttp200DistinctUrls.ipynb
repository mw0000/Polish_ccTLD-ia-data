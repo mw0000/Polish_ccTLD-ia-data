{
 "cells": [
  {
   "cell_type": "code",
   "execution_count": 1,
   "metadata": {},
   "outputs": [],
   "source": [
    "// 1. Installation\n",
    "\n",
    "//install libraries\n",
    "import org.archive.archivespark._\n",
    "import org.archive.archivespark.functions._\n",
    "import org.archive.archivespark.specific.warc._\n",
    "\n",
    "// data files - generic path from docker run -v\n",
    "val cdxPath = \"/data/arc_cdx/*.cdx\"\n",
    "val warcPath = \"/data/warc\"\n",
    "\n",
    "import org.apache.spark.sql.functions.count\n",
    "import org.apache.spark.sql.functions._\n",
    "import org.apache.spark.sql.{Row, SparkSession}\n",
    "\n",
    "val session = spark.newSession\n",
    "\n",
    "// collect all records\n",
    "\n",
    "val r = ArchiveSpark.load(WarcSpec.fromFiles(cdxPath, warcPath))"
   ]
  },
  {
   "cell_type": "code",
   "execution_count": 2,
   "metadata": {},
   "outputs": [],
   "source": [
    "// count all distinct urls with http 200\n",
    "\n",
    "val r1996 = r.filter(r => r.timestamp.startsWith(\"1996\") && r.status == 200)\n",
    "val r1997 = r.filter(r => r.timestamp.startsWith(\"1997\") && r.status == 200)\n",
    "val r1998 = r.filter(r => r.timestamp.startsWith(\"1998\") && r.status == 200)\n",
    "val r1999 = r.filter(r => r.timestamp.startsWith(\"1999\") && r.status == 200)\n",
    "val r2000 = r.filter(r => r.timestamp.startsWith(\"2000\") && r.status == 200)\n",
    "val r2001 = r.filter(r => r.timestamp.startsWith(\"2001\") && r.status == 200)\n"
   ]
  },
  {
   "cell_type": "code",
   "execution_count": 5,
   "metadata": {},
   "outputs": [
    {
     "data": {
      "text/plain": [
       "{\n",
       "    \"record\" : {\n",
       "        \"redirectUrl\" : \"-\",\n",
       "        \"timestamp\" : \"19961230003113\",\n",
       "        \"digest\" : \"SEIFFLPZ24OLR4RJPFQIA7VXM6AZG25Y\",\n",
       "        \"originalUrl\" : \"http://studio-net.com.pl:80/\",\n",
       "        \"surtUrl\" : \"pl,com,studio-net)/\",\n",
       "        \"mime\" : \"text/html\",\n",
       "        \"compressedSize\" : 1405,\n",
       "        \"meta\" : \"-\",\n",
       "        \"status\" : 200\n",
       "    }\n",
       "}"
      ]
     },
     "execution_count": 5,
     "metadata": {},
     "output_type": "execute_result"
    }
   ],
   "source": [
    "r1996.peekJson"
   ]
  },
  {
   "cell_type": "code",
   "execution_count": 9,
   "metadata": {},
   "outputs": [],
   "source": [
    "val r1996d = r1996.distinctValue(_.originalUrl) {(r1, r2) => Seq(r1, r2).maxBy(_.timestamp)}"
   ]
  },
  {
   "cell_type": "code",
   "execution_count": 10,
   "metadata": {},
   "outputs": [
    {
     "data": {
      "text/plain": [
       "{\n",
       "    \"record\" : {\n",
       "        \"redirectUrl\" : \"-\",\n",
       "        \"timestamp\" : \"19961108220612\",\n",
       "        \"digest\" : \"4WH4EDQGSHBHW5KNBBUCVKNQHW27C36E\",\n",
       "        \"originalUrl\" : \"http://smok.krakus.ternet.pl:80/firmy/opi/badnauk.html\",\n",
       "        \"surtUrl\" : \"pl,ternet,krakus,smok)/firmy/opi/badnauk.html\",\n",
       "        \"mime\" : \"text/html\",\n",
       "        \"compressedSize\" : 1558,\n",
       "        \"meta\" : \"-\",\n",
       "        \"status\" : 200\n",
       "    }\n",
       "}"
      ]
     },
     "execution_count": 10,
     "metadata": {},
     "output_type": "execute_result"
    }
   ],
   "source": [
    "r1996d.peekJson"
   ]
  },
  {
   "cell_type": "code",
   "execution_count": 11,
   "metadata": {},
   "outputs": [
    {
     "data": {
      "text/plain": [
       "72166"
      ]
     },
     "execution_count": 11,
     "metadata": {},
     "output_type": "execute_result"
    }
   ],
   "source": [
    "r1996d.count()"
   ]
  },
  {
   "cell_type": "code",
   "execution_count": 13,
   "metadata": {},
   "outputs": [
    {
     "data": {
      "text/plain": [
       "1087617"
      ]
     },
     "execution_count": 13,
     "metadata": {},
     "output_type": "execute_result"
    }
   ],
   "source": [
    "val r1997d = r1997.distinctValue(_.originalUrl) {(r1, r2) => Seq(r1, r2).maxBy(_.timestamp)}\n",
    "r1997d.count()"
   ]
  },
  {
   "cell_type": "code",
   "execution_count": 14,
   "metadata": {},
   "outputs": [
    {
     "data": {
      "text/plain": [
       "859477"
      ]
     },
     "execution_count": 14,
     "metadata": {},
     "output_type": "execute_result"
    }
   ],
   "source": [
    "val r1998d = r1998.distinctValue(_.originalUrl) {(r1, r2) => Seq(r1, r2).maxBy(_.timestamp)}\n",
    "r1998d.count()"
   ]
  },
  {
   "cell_type": "code",
   "execution_count": 15,
   "metadata": {},
   "outputs": [
    {
     "data": {
      "text/plain": [
       "1152859"
      ]
     },
     "execution_count": 15,
     "metadata": {},
     "output_type": "execute_result"
    }
   ],
   "source": [
    "val r1999d = r1999.distinctValue(_.originalUrl) {(r1, r2) => Seq(r1, r2).maxBy(_.timestamp)}\n",
    "r1999d.count()"
   ]
  },
  {
   "cell_type": "code",
   "execution_count": 16,
   "metadata": {},
   "outputs": [
    {
     "data": {
      "text/plain": [
       "2951183"
      ]
     },
     "execution_count": 16,
     "metadata": {},
     "output_type": "execute_result"
    }
   ],
   "source": [
    "val r2000d = r2000.distinctValue(_.originalUrl) {(r1, r2) => Seq(r1, r2).maxBy(_.timestamp)}\n",
    "r2000d.count()"
   ]
  },
  {
   "cell_type": "code",
   "execution_count": 17,
   "metadata": {},
   "outputs": [
    {
     "data": {
      "text/plain": [
       "12211565"
      ]
     },
     "execution_count": 17,
     "metadata": {},
     "output_type": "execute_result"
    }
   ],
   "source": [
    "val r2001d = r2001.distinctValue(_.originalUrl) {(r1, r2) => Seq(r1, r2).maxBy(_.timestamp)}\n",
    "r2001d.count()"
   ]
  },
  {
   "cell_type": "code",
   "execution_count": null,
   "metadata": {},
   "outputs": [],
   "source": []
  },
  {
   "cell_type": "code",
   "execution_count": null,
   "metadata": {},
   "outputs": [],
   "source": []
  }
 ],
 "metadata": {
  "kernelspec": {
   "display_name": "ArchiveSpark",
   "language": "",
   "name": "archivespark"
  },
  "language_info": {
   "name": "scala",
   "version": "2.11.8"
  }
 },
 "nbformat": 4,
 "nbformat_minor": 2
}
