{
 "cells": [
  {
   "cell_type": "code",
   "execution_count": 1,
   "metadata": {},
   "outputs": [],
   "source": [
    "// 1. Installation\n",
    "\n",
    "//install libraries\n",
    "import org.archive.archivespark._\n",
    "import org.archive.archivespark.functions._\n",
    "import org.archive.archivespark.specific.warc._\n",
    "\n",
    "// data files - generic path from docker run -v\n",
    "val cdxPath = \"/data/arc_cdx/*.cdx\"\n",
    "val warcPath = \"/data/warc\"\n",
    "\n",
    "import org.apache.spark.sql.{Row, SparkSession}\n",
    "\n",
    "val session = spark.newSession\n",
    "\n",
    "// collect all records\n",
    "\n",
    "val r = ArchiveSpark.load(WarcSpec.fromFiles(cdxPath, warcPath))"
   ]
  },
  {
   "cell_type": "code",
   "execution_count": 2,
   "metadata": {},
   "outputs": [],
   "source": [
    "val researchYear = \"1999\""
   ]
  },
  {
   "cell_type": "code",
   "execution_count": 3,
   "metadata": {},
   "outputs": [],
   "source": [
    "// 2. Count ALL objects from research Year\n",
    "// 2.1 get data for text/html & HTTP 200 for each Year\n",
    "val t1 = r.filter(r => r.timestamp.startsWith(researchYear))\n"
   ]
  },
  {
   "cell_type": "code",
   "execution_count": 4,
   "metadata": {},
   "outputs": [],
   "source": [
    "// 3. generate basic data frame\n",
    "\n",
    "val m = t1.map(f=> (f.originalUrl,f.digest,f.status,f.mime))\n",
    "val df = session.createDataFrame(m).toDF(\"originalUrl\",\"digest\",\"status\",\"mime\").cache()"
   ]
  },
  {
   "cell_type": "code",
   "execution_count": 5,
   "metadata": {},
   "outputs": [],
   "source": [
    "import org.apache.spark.sql.functions.count\n",
    "import org.apache.spark.sql.functions._\n"
   ]
  },
  {
   "cell_type": "code",
   "execution_count": 6,
   "metadata": {},
   "outputs": [
    {
     "name": "stdout",
     "output_type": "stream",
     "text": [
      "+---------------------------+\n",
      "|count(DISTINCT originalUrl)|\n",
      "+---------------------------+\n",
      "|                    1312057|\n",
      "+---------------------------+\n",
      "\n"
     ]
    }
   ],
   "source": [
    "df.filter(df(\"mime\") === \"text/html\").select(countDistinct(\"originalUrl\")).show()"
   ]
  },
  {
   "cell_type": "code",
   "execution_count": 7,
   "metadata": {},
   "outputs": [
    {
     "name": "stdout",
     "output_type": "stream",
     "text": [
      "\r",
      "                                                                                \r",
      "+---------------------------+\n",
      "|count(DISTINCT originalUrl)|\n",
      "+---------------------------+\n",
      "|                    1454305|\n",
      "+---------------------------+\n",
      "\n"
     ]
    }
   ],
   "source": [
    "df.select(countDistinct(\"originalUrl\")).show()"
   ]
  },
  {
   "cell_type": "code",
   "execution_count": 8,
   "metadata": {},
   "outputs": [
    {
     "name": "stdout",
     "output_type": "stream",
     "text": [
      "+---------------+-------+\n",
      "|mime           |URLs   |\n",
      "+---------------+-------+\n",
      "|text/html      |1312057|\n",
      "|im             |69634  |\n",
      "|text/pl        |50052  |\n",
      "|unk            |31296  |\n",
      "|text/plain     |2117   |\n",
      "|text/x         |155    |\n",
      "|text/css       |118    |\n",
      "|x              |63     |\n",
      "|text/          |24     |\n",
      "|text/nt-t      |18     |\n",
      "|multip         |18     |\n",
      "|text/c         |17     |\n",
      "|text/rtf       |17     |\n",
      "|text/nt-l      |11     |\n",
      "|m              |9      |\n",
      "|video/mpeg     |7      |\n",
      "|model/vrml     |7      |\n",
      "|test/pl        |5      |\n",
      "|unknown        |3      |\n",
      "|-              |3      |\n",
      "|video/x        |3      |\n",
      "|httpd/send     |2      |\n",
      "|mess           |2      |\n",
      "|video/quicktime|2      |\n",
      "|text/xml       |1      |\n",
      "|tpl            |1      |\n",
      "|text/j         |1      |\n",
      "|www/unknown    |1      |\n",
      "|text/t         |1      |\n",
      "|text/pt        |1      |\n",
      "+---------------+-------+\n",
      "\n"
     ]
    }
   ],
   "source": [
    "df.groupBy(\"mime\").agg(countDistinct(\"originalUrl\") as \"URLs\").orderBy(desc(\"URLs\")).show(300,false)"
   ]
  },
  {
   "cell_type": "code",
   "execution_count": 9,
   "metadata": {},
   "outputs": [
    {
     "data": {
      "text/plain": [
       "30"
      ]
     },
     "execution_count": 9,
     "metadata": {},
     "output_type": "execute_result"
    }
   ],
   "source": [
    "df.groupBy(\"mime\").agg(countDistinct(\"originalUrl\") as \"URLs\").count()"
   ]
  },
  {
   "cell_type": "code",
   "execution_count": null,
   "metadata": {},
   "outputs": [],
   "source": []
  }
 ],
 "metadata": {
  "kernelspec": {
   "display_name": "ArchiveSpark",
   "language": "",
   "name": "archivespark"
  },
  "language_info": {
   "name": "scala",
   "version": "2.11.8"
  }
 },
 "nbformat": 4,
 "nbformat_minor": 2
}
